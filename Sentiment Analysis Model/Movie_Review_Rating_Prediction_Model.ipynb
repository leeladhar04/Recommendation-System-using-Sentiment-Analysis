{
  "cells": [
    {
      "cell_type": "markdown",
      "metadata": {
        "id": "qgQapucrcAFL"
      },
      "source": [
        "# Fine Tuning HuggingFace 'bert-base-uncased' for Rating prediction of Movie Reviews by different Users"
      ]
    },
    {
      "cell_type": "code",
      "execution_count": 1,
      "metadata": {
        "colab": {
          "base_uri": "https://localhost:8080/"
        },
        "id": "uEYJE57ecAFM",
        "outputId": "e9681db2-7707-4f54-a58b-d313c6d6bbe1",
        "vscode": {
          "languageId": "plaintext"
        }
      },
      "outputs": [
        {
          "name": "stdout",
          "output_type": "stream",
          "text": [
            "Mounted at /content/drive\n"
          ]
        }
      ],
      "source": [
        "from google.colab import drive\n",
        "drive.mount('/content/drive')"
      ]
    },
    {
      "cell_type": "code",
      "execution_count": null,
      "metadata": {
        "colab": {
          "base_uri": "https://localhost:8080/"
        },
        "id": "EI9nRM6Icokk",
        "outputId": "efae1baf-4ba0-4571-9cc6-e79ce3622db3"
      },
      "outputs": [
        {
          "name": "stdout",
          "output_type": "stream",
          "text": [
            "Wed Apr 17 08:47:08 2024       \n",
            "+---------------------------------------------------------------------------------------+\n",
            "| NVIDIA-SMI 535.104.05             Driver Version: 535.104.05   CUDA Version: 12.2     |\n",
            "|-----------------------------------------+----------------------+----------------------+\n",
            "| GPU  Name                 Persistence-M | Bus-Id        Disp.A | Volatile Uncorr. ECC |\n",
            "| Fan  Temp   Perf          Pwr:Usage/Cap |         Memory-Usage | GPU-Util  Compute M. |\n",
            "|                                         |                      |               MIG M. |\n",
            "|=========================================+======================+======================|\n",
            "|   0  Tesla T4                       Off | 00000000:00:04.0 Off |                    0 |\n",
            "| N/A   56C    P8              13W /  70W |      0MiB / 15360MiB |      0%      Default |\n",
            "|                                         |                      |                  N/A |\n",
            "+-----------------------------------------+----------------------+----------------------+\n",
            "                                                                                         \n",
            "+---------------------------------------------------------------------------------------+\n",
            "| Processes:                                                                            |\n",
            "|  GPU   GI   CI        PID   Type   Process name                            GPU Memory |\n",
            "|        ID   ID                                                             Usage      |\n",
            "|=======================================================================================|\n",
            "|  No running processes found                                                           |\n",
            "+---------------------------------------------------------------------------------------+\n"
          ]
        }
      ],
      "source": [
        "!nvidia-smi"
      ]
    },
    {
      "cell_type": "code",
      "execution_count": 2,
      "metadata": {
        "id": "Efj-Uh4qc3he"
      },
      "outputs": [],
      "source": [
        "# Importing the libraries\n",
        "# The Goal is to fine tune the bert-base model to predict a 1 to 5 star rating from Movie reviews\n",
        "\n",
        "from transformers import BertTokenizer, BertModel, get_linear_schedule_with_warmup, DataCollatorWithPadding\n",
        "\n",
        "import torch\n",
        "from torch.utils.data import Dataset, DataLoader\n",
        "import torch.nn.functional as F\n",
        "from torch import nn, optim\n",
        "\n",
        "import matplotlib.pyplot as plt\n",
        "from matplotlib import rc\n",
        "\n",
        "import numpy as np\n",
        "import pandas as pd\n",
        "import seaborn as sns\n",
        "from pylab import rcParams\n",
        "\n",
        "from sklearn.model_selection import train_test_split\n",
        "from sklearn.metrics import confusion_matrix, classification_report\n",
        "\n",
        "from collections import defaultdict\n",
        "from textwrap import wrap\n",
        "\n",
        "%matplotlib inline\n",
        "%config InlineBackend.figure_format='retina'\n",
        "\n",
        "sns.set(style='darkgrid', palette='pastel', font_scale=1.5)\n",
        "sns.set_palette(sns.color_palette(\"Paired\"))\n",
        "\n",
        "rcParams['figure.figsize'] = 12,8\n",
        "RANDOM_SEED = 42\n",
        "np.random.seed(RANDOM_SEED)\n",
        "torch.manual_seed(RANDOM_SEED)\n",
        "device = torch.device('cuda' if torch.cuda.is_available() else 'cpu')"
      ]
    },
    {
      "cell_type": "code",
      "execution_count": 3,
      "metadata": {
        "id": "LyC4KVAe6vgu"
      },
      "outputs": [],
      "source": [
        "def get_gpu_memory_info():\n",
        "    \"\"\"Return GPU memory information for each available GPU.\"\"\"\n",
        "    gpu_memory_info = []\n",
        "    for i in range(torch.cuda.device_count()):\n",
        "        try:\n",
        "            gpu = torch.cuda.get_device_properties(i)\n",
        "            gpu_memory_info.append((i, gpu.name, gpu.total_memory / 1024**2))  # Total memory in MB\n",
        "        except Exception as e:\n",
        "            print(f\"Error accessing GPU {i}: {e}\")\n",
        "    return gpu_memory_info\n",
        "\n",
        "def get_gpu_memory_usage():\n",
        "    \"\"\"Return GPU memory usage in MB for each available GPU.\"\"\"\n",
        "    gpu_memory_usage = []\n",
        "    for i in range(torch.cuda.device_count()):\n",
        "        try:\n",
        "            gpu = torch.cuda.get_device_properties(i)\n",
        "            gpu_memory = torch.cuda.memory_allocated(i) / 1024**2  # Memory allocated in MB\n",
        "            gpu_memory_usage.append((i, gpu.name, gpu_memory))\n",
        "        except Exception as e:\n",
        "            print(f\"Error accessing GPU {i}: {e}\")\n",
        "    return gpu_memory_usage\n",
        "\n",
        "def check_gpu_info():\n",
        "    if torch.cuda.is_available():\n",
        "        # Get GPU memory information for each GPU\n",
        "        gpu_memory_info = get_gpu_memory_info()\n",
        "\n",
        "        if gpu_memory_info:\n",
        "            # Sort GPUs by total memory available\n",
        "            sorted_gpu_memory = sorted(gpu_memory_info, key=lambda x: x[2], reverse=True)\n",
        "\n",
        "            # Print GPU information\n",
        "            print(\"GPU memory information:\")\n",
        "            for gpu_info in sorted_gpu_memory:\n",
        "                print(f\"GPU {gpu_info[0]} ({gpu_info[1]}): {gpu_info[2]:.2f} MB total memory\")\n",
        "        else:\n",
        "            print(\"No GPUs found or unable to access GPU information.\")\n",
        "\n",
        "        # Get GPU memory usage for each GPU\n",
        "        gpu_memory_usage = get_gpu_memory_usage()\n",
        "\n",
        "        if gpu_memory_usage:\n",
        "            # Sort GPUs by memory usage\n",
        "            sorted_gpu_memory = sorted(gpu_memory_usage, key=lambda x: x[1], reverse=True)\n",
        "\n",
        "            # Print the GPU with the highest memory usage\n",
        "            print(\"GPU with the highest memory usage:\")\n",
        "            print(f\"GPU {sorted_gpu_memory[0][0]} ({sorted_gpu_memory[0][1]}): {sorted_gpu_memory[0][2]:.2f} MB\")\n",
        "        else:\n",
        "            print(\"No GPUs found or unable to access GPU information.\")\n",
        "    else:\n",
        "        print(\"CUDA is not available. Make sure CUDA is properly installed and configured.\")"
      ]
    },
    {
      "cell_type": "code",
      "execution_count": 4,
      "metadata": {
        "colab": {
          "base_uri": "https://localhost:8080/"
        },
        "id": "FiURwQ1ZzPF6",
        "outputId": "9230f759-8a7a-4c6a-92a5-c7a197e78811"
      },
      "outputs": [
        {
          "name": "stdout",
          "output_type": "stream",
          "text": [
            "GPU memory information:\n",
            "GPU 0 (Tesla T4): 15102.06 MB total memory\n",
            "GPU with the highest memory usage:\n",
            "GPU 0 (Tesla T4): 0.00 MB\n"
          ]
        }
      ],
      "source": [
        "check_gpu_info()"
      ]
    },
    {
      "cell_type": "markdown",
      "metadata": {
        "id": "pF6AeiPooYWi"
      },
      "source": [
        "## Parsing and Mapping the Dataset"
      ]
    },
    {
      "cell_type": "code",
      "execution_count": 5,
      "metadata": {
        "colab": {
          "base_uri": "https://localhost:8080/",
          "height": 424
        },
        "id": "1T0oKCmNfVe1",
        "outputId": "6e367dc4-1267-445b-e3da-d34e28dafb48"
      },
      "outputs": [
        {
          "data": {
            "application/vnd.google.colaboratory.intrinsic+json": {
              "summary": "{\n  \"name\": \"df\",\n  \"rows\": 17008,\n  \"fields\": [\n    {\n      \"column\": \"UserID\",\n      \"properties\": {\n        \"dtype\": \"category\",\n        \"num_unique_values\": 3366,\n        \"samples\": [\n          \"ur0024197\",\n          \"ur0059774\",\n          \"ur0016315\"\n        ],\n        \"semantic_type\": \"\",\n        \"description\": \"\"\n      }\n    },\n    {\n      \"column\": \"MovieID\",\n      \"properties\": {\n        \"dtype\": \"string\",\n        \"num_unique_values\": 9335,\n        \"samples\": [\n          \"tt1136605\",\n          \"tt0119935\",\n          \"tt0049115\"\n        ],\n        \"semantic_type\": \"\",\n        \"description\": \"\"\n      }\n    },\n    {\n      \"column\": \"Review\",\n      \"properties\": {\n        \"dtype\": \"string\",\n        \"num_unique_values\": 16231,\n        \"samples\": [\n          \"I can understand why this show scared people when it came out. Filmed like some BBC live documentary, the show looks generally real. There are some places where the editing or camera-work would not have happened that way in a real live show, but I would expect people wouldn't think about that, and obviously kids wouldn't notice.The problem with Ghostwatch is because it wants to be convincingly real, it starts out convincingly slowly. Over the first half hour there are talking-heads style interviews and general chit chat and information stuff that would only interest people who were really interested in seeing a ghost documentary. In fact, I suspect one reason this show was so effective is that the most skeptical people would have tuned out through boredom early on, leaving only believers watching by the end.After the first tedious half hour I decided to fast forward until it looked like something interesting was going on. I wound up moving ahead another half hour.But once you're into the last third of the movie, things get pretty intense. Even if you know it's a mockumentary, the final moments are truly chilling, and I can only imagine how terrifying this was to those who thought it was a real documentary.Keep an eye out for ghostly apparitions. I missed most of them, although there is a youtube video that collects them all.\",\n          \"Pearl Harbor I thought was a good movie. The movie follows the lives of two best friends, Danny, played by Josh Hartnett (Virgin Suicides) and Rafe, played by Ben Affleck (Good Will Hunting). Coincidentally they both fall in love with the same girl, played by Kate Beckinsale. It soon turns out to be an almost soap-opera like love triangle which to me is too ridiculous. Jon Voight (Midnight Cowboy) gives one of the most realistic portrayals and best performance as President Roosevelt. Also Alec Baldwin (The Shadow) gave a good performance as the head aviation commander. The movie also stars many other famous stars such as Cuba Gooding Jr., Dan Aykroyd, and Tom Seizmore. Pearl Harbor probably had to be one of the best movies on Pearl Harbor because of the realistic dogfights, the special effects, and the acting, especially Jon Voight's. Unfortunately the romance segments of the movie are stupid and pointless. If I were the director, I would try to keep the romance parts of the movie to a bare minimum. There are also, many fast camera movements during the attack on Pearl Harbor, which I liked. I am also surprised it got a PG-13 rating. The bombing of Pearl Harbor was pretty violent and bloody. Overall, I recommend this movie to everyone, but just skip the romance part of the movie. Other than that, you will like it.7/10 stars\",\n          \"Ignore those fakey sets and the dry ice fog ... this is a masterpiece. Chaney at his best ... a story that's as much a tragic romance as a monster flick.  The transformation scenes may not be much by today's standards, but I remember being scared to death by them when I watched them on the ol' black and white TV back in my '60s childhood.  Short on blood and gore and long on plot by today's standards.\"\n        ],\n        \"semantic_type\": \"\",\n        \"description\": \"\"\n      }\n    },\n    {\n      \"column\": \"Rating\",\n      \"properties\": {\n        \"dtype\": \"number\",\n        \"std\": 2,\n        \"min\": 1,\n        \"max\": 10,\n        \"num_unique_values\": 10,\n        \"samples\": [\n          8,\n          2,\n          1\n        ],\n        \"semantic_type\": \"\",\n        \"description\": \"\"\n      }\n    }\n  ]\n}",
              "type": "dataframe",
              "variable_name": "df"
            },
            "text/html": [
              "\n",
              "  <div id=\"df-8ea8ed3d-e273-446e-a26c-c92ce18f84ec\" class=\"colab-df-container\">\n",
              "    <div>\n",
              "<style scoped>\n",
              "    .dataframe tbody tr th:only-of-type {\n",
              "        vertical-align: middle;\n",
              "    }\n",
              "\n",
              "    .dataframe tbody tr th {\n",
              "        vertical-align: top;\n",
              "    }\n",
              "\n",
              "    .dataframe thead th {\n",
              "        text-align: right;\n",
              "    }\n",
              "</style>\n",
              "<table border=\"1\" class=\"dataframe\">\n",
              "  <thead>\n",
              "    <tr style=\"text-align: right;\">\n",
              "      <th></th>\n",
              "      <th>UserID</th>\n",
              "      <th>MovieID</th>\n",
              "      <th>Review</th>\n",
              "      <th>Rating</th>\n",
              "    </tr>\n",
              "  </thead>\n",
              "  <tbody>\n",
              "    <tr>\n",
              "      <th>0</th>\n",
              "      <td>ur0000001</td>\n",
              "      <td>tt1144884</td>\n",
              "      <td>A very mediocre addition to the Final Destinat...</td>\n",
              "      <td>4</td>\n",
              "    </tr>\n",
              "    <tr>\n",
              "      <th>1</th>\n",
              "      <td>ur0000002</td>\n",
              "      <td>tt0119237</td>\n",
              "      <td>Memo to Mr. Korine: a movie should have someth...</td>\n",
              "      <td>2</td>\n",
              "    </tr>\n",
              "    <tr>\n",
              "      <th>2</th>\n",
              "      <td>ur0000002</td>\n",
              "      <td>tt0120741</td>\n",
              "      <td>All the good jokes were in the trailer.  This ...</td>\n",
              "      <td>5</td>\n",
              "    </tr>\n",
              "    <tr>\n",
              "      <th>3</th>\n",
              "      <td>ur0000002</td>\n",
              "      <td>tt0134619</td>\n",
              "      <td>As a paranoia thriller, this mostly works as f...</td>\n",
              "      <td>4</td>\n",
              "    </tr>\n",
              "    <tr>\n",
              "      <th>4</th>\n",
              "      <td>ur0000002</td>\n",
              "      <td>tt0120746</td>\n",
              "      <td>Cracking yarn.  And decent swordplay as well. ...</td>\n",
              "      <td>7</td>\n",
              "    </tr>\n",
              "    <tr>\n",
              "      <th>...</th>\n",
              "      <td>...</td>\n",
              "      <td>...</td>\n",
              "      <td>...</td>\n",
              "      <td>...</td>\n",
              "    </tr>\n",
              "    <tr>\n",
              "      <th>17003</th>\n",
              "      <td>ur0101084</td>\n",
              "      <td>tt0115571</td>\n",
              "      <td>The Arrival has talented actors, reasonable sp...</td>\n",
              "      <td>5</td>\n",
              "    </tr>\n",
              "    <tr>\n",
              "      <th>17004</th>\n",
              "      <td>ur0101084</td>\n",
              "      <td>tt6794990</td>\n",
              "      <td>The story begins with finding a missing female...</td>\n",
              "      <td>4</td>\n",
              "    </tr>\n",
              "    <tr>\n",
              "      <th>17005</th>\n",
              "      <td>ur0101106</td>\n",
              "      <td>tt0191653</td>\n",
              "      <td>I'll usually just flip right by a movie when I...</td>\n",
              "      <td>6</td>\n",
              "    </tr>\n",
              "    <tr>\n",
              "      <th>17006</th>\n",
              "      <td>ur0101106</td>\n",
              "      <td>tt0184456</td>\n",
              "      <td>The Apollo Movie Guide was right.  Since I had...</td>\n",
              "      <td>4</td>\n",
              "    </tr>\n",
              "    <tr>\n",
              "      <th>17007</th>\n",
              "      <td>ur0101106</td>\n",
              "      <td>tt0139082</td>\n",
              "      <td>...from the train, and almost all the way thro...</td>\n",
              "      <td>2</td>\n",
              "    </tr>\n",
              "  </tbody>\n",
              "</table>\n",
              "<p>17008 rows × 4 columns</p>\n",
              "</div>\n",
              "    <div class=\"colab-df-buttons\">\n",
              "\n",
              "  <div class=\"colab-df-container\">\n",
              "    <button class=\"colab-df-convert\" onclick=\"convertToInteractive('df-8ea8ed3d-e273-446e-a26c-c92ce18f84ec')\"\n",
              "            title=\"Convert this dataframe to an interactive table.\"\n",
              "            style=\"display:none;\">\n",
              "\n",
              "  <svg xmlns=\"http://www.w3.org/2000/svg\" height=\"24px\" viewBox=\"0 -960 960 960\">\n",
              "    <path d=\"M120-120v-720h720v720H120Zm60-500h600v-160H180v160Zm220 220h160v-160H400v160Zm0 220h160v-160H400v160ZM180-400h160v-160H180v160Zm440 0h160v-160H620v160ZM180-180h160v-160H180v160Zm440 0h160v-160H620v160Z\"/>\n",
              "  </svg>\n",
              "    </button>\n",
              "\n",
              "  <style>\n",
              "    .colab-df-container {\n",
              "      display:flex;\n",
              "      gap: 12px;\n",
              "    }\n",
              "\n",
              "    .colab-df-convert {\n",
              "      background-color: #E8F0FE;\n",
              "      border: none;\n",
              "      border-radius: 50%;\n",
              "      cursor: pointer;\n",
              "      display: none;\n",
              "      fill: #1967D2;\n",
              "      height: 32px;\n",
              "      padding: 0 0 0 0;\n",
              "      width: 32px;\n",
              "    }\n",
              "\n",
              "    .colab-df-convert:hover {\n",
              "      background-color: #E2EBFA;\n",
              "      box-shadow: 0px 1px 2px rgba(60, 64, 67, 0.3), 0px 1px 3px 1px rgba(60, 64, 67, 0.15);\n",
              "      fill: #174EA6;\n",
              "    }\n",
              "\n",
              "    .colab-df-buttons div {\n",
              "      margin-bottom: 4px;\n",
              "    }\n",
              "\n",
              "    [theme=dark] .colab-df-convert {\n",
              "      background-color: #3B4455;\n",
              "      fill: #D2E3FC;\n",
              "    }\n",
              "\n",
              "    [theme=dark] .colab-df-convert:hover {\n",
              "      background-color: #434B5C;\n",
              "      box-shadow: 0px 1px 3px 1px rgba(0, 0, 0, 0.15);\n",
              "      filter: drop-shadow(0px 1px 2px rgba(0, 0, 0, 0.3));\n",
              "      fill: #FFFFFF;\n",
              "    }\n",
              "  </style>\n",
              "\n",
              "    <script>\n",
              "      const buttonEl =\n",
              "        document.querySelector('#df-8ea8ed3d-e273-446e-a26c-c92ce18f84ec button.colab-df-convert');\n",
              "      buttonEl.style.display =\n",
              "        google.colab.kernel.accessAllowed ? 'block' : 'none';\n",
              "\n",
              "      async function convertToInteractive(key) {\n",
              "        const element = document.querySelector('#df-8ea8ed3d-e273-446e-a26c-c92ce18f84ec');\n",
              "        const dataTable =\n",
              "          await google.colab.kernel.invokeFunction('convertToInteractive',\n",
              "                                                    [key], {});\n",
              "        if (!dataTable) return;\n",
              "\n",
              "        const docLinkHtml = 'Like what you see? Visit the ' +\n",
              "          '<a target=\"_blank\" href=https://colab.research.google.com/notebooks/data_table.ipynb>data table notebook</a>'\n",
              "          + ' to learn more about interactive tables.';\n",
              "        element.innerHTML = '';\n",
              "        dataTable['output_type'] = 'display_data';\n",
              "        await google.colab.output.renderOutput(dataTable, element);\n",
              "        const docLink = document.createElement('div');\n",
              "        docLink.innerHTML = docLinkHtml;\n",
              "        element.appendChild(docLink);\n",
              "      }\n",
              "    </script>\n",
              "  </div>\n",
              "\n",
              "\n",
              "<div id=\"df-1d16c758-b34c-4342-ac2c-0bc3339254d6\">\n",
              "  <button class=\"colab-df-quickchart\" onclick=\"quickchart('df-1d16c758-b34c-4342-ac2c-0bc3339254d6')\"\n",
              "            title=\"Suggest charts\"\n",
              "            style=\"display:none;\">\n",
              "\n",
              "<svg xmlns=\"http://www.w3.org/2000/svg\" height=\"24px\"viewBox=\"0 0 24 24\"\n",
              "     width=\"24px\">\n",
              "    <g>\n",
              "        <path d=\"M19 3H5c-1.1 0-2 .9-2 2v14c0 1.1.9 2 2 2h14c1.1 0 2-.9 2-2V5c0-1.1-.9-2-2-2zM9 17H7v-7h2v7zm4 0h-2V7h2v10zm4 0h-2v-4h2v4z\"/>\n",
              "    </g>\n",
              "</svg>\n",
              "  </button>\n",
              "\n",
              "<style>\n",
              "  .colab-df-quickchart {\n",
              "      --bg-color: #E8F0FE;\n",
              "      --fill-color: #1967D2;\n",
              "      --hover-bg-color: #E2EBFA;\n",
              "      --hover-fill-color: #174EA6;\n",
              "      --disabled-fill-color: #AAA;\n",
              "      --disabled-bg-color: #DDD;\n",
              "  }\n",
              "\n",
              "  [theme=dark] .colab-df-quickchart {\n",
              "      --bg-color: #3B4455;\n",
              "      --fill-color: #D2E3FC;\n",
              "      --hover-bg-color: #434B5C;\n",
              "      --hover-fill-color: #FFFFFF;\n",
              "      --disabled-bg-color: #3B4455;\n",
              "      --disabled-fill-color: #666;\n",
              "  }\n",
              "\n",
              "  .colab-df-quickchart {\n",
              "    background-color: var(--bg-color);\n",
              "    border: none;\n",
              "    border-radius: 50%;\n",
              "    cursor: pointer;\n",
              "    display: none;\n",
              "    fill: var(--fill-color);\n",
              "    height: 32px;\n",
              "    padding: 0;\n",
              "    width: 32px;\n",
              "  }\n",
              "\n",
              "  .colab-df-quickchart:hover {\n",
              "    background-color: var(--hover-bg-color);\n",
              "    box-shadow: 0 1px 2px rgba(60, 64, 67, 0.3), 0 1px 3px 1px rgba(60, 64, 67, 0.15);\n",
              "    fill: var(--button-hover-fill-color);\n",
              "  }\n",
              "\n",
              "  .colab-df-quickchart-complete:disabled,\n",
              "  .colab-df-quickchart-complete:disabled:hover {\n",
              "    background-color: var(--disabled-bg-color);\n",
              "    fill: var(--disabled-fill-color);\n",
              "    box-shadow: none;\n",
              "  }\n",
              "\n",
              "  .colab-df-spinner {\n",
              "    border: 2px solid var(--fill-color);\n",
              "    border-color: transparent;\n",
              "    border-bottom-color: var(--fill-color);\n",
              "    animation:\n",
              "      spin 1s steps(1) infinite;\n",
              "  }\n",
              "\n",
              "  @keyframes spin {\n",
              "    0% {\n",
              "      border-color: transparent;\n",
              "      border-bottom-color: var(--fill-color);\n",
              "      border-left-color: var(--fill-color);\n",
              "    }\n",
              "    20% {\n",
              "      border-color: transparent;\n",
              "      border-left-color: var(--fill-color);\n",
              "      border-top-color: var(--fill-color);\n",
              "    }\n",
              "    30% {\n",
              "      border-color: transparent;\n",
              "      border-left-color: var(--fill-color);\n",
              "      border-top-color: var(--fill-color);\n",
              "      border-right-color: var(--fill-color);\n",
              "    }\n",
              "    40% {\n",
              "      border-color: transparent;\n",
              "      border-right-color: var(--fill-color);\n",
              "      border-top-color: var(--fill-color);\n",
              "    }\n",
              "    60% {\n",
              "      border-color: transparent;\n",
              "      border-right-color: var(--fill-color);\n",
              "    }\n",
              "    80% {\n",
              "      border-color: transparent;\n",
              "      border-right-color: var(--fill-color);\n",
              "      border-bottom-color: var(--fill-color);\n",
              "    }\n",
              "    90% {\n",
              "      border-color: transparent;\n",
              "      border-bottom-color: var(--fill-color);\n",
              "    }\n",
              "  }\n",
              "</style>\n",
              "\n",
              "  <script>\n",
              "    async function quickchart(key) {\n",
              "      const quickchartButtonEl =\n",
              "        document.querySelector('#' + key + ' button');\n",
              "      quickchartButtonEl.disabled = true;  // To prevent multiple clicks.\n",
              "      quickchartButtonEl.classList.add('colab-df-spinner');\n",
              "      try {\n",
              "        const charts = await google.colab.kernel.invokeFunction(\n",
              "            'suggestCharts', [key], {});\n",
              "      } catch (error) {\n",
              "        console.error('Error during call to suggestCharts:', error);\n",
              "      }\n",
              "      quickchartButtonEl.classList.remove('colab-df-spinner');\n",
              "      quickchartButtonEl.classList.add('colab-df-quickchart-complete');\n",
              "    }\n",
              "    (() => {\n",
              "      let quickchartButtonEl =\n",
              "        document.querySelector('#df-1d16c758-b34c-4342-ac2c-0bc3339254d6 button');\n",
              "      quickchartButtonEl.style.display =\n",
              "        google.colab.kernel.accessAllowed ? 'block' : 'none';\n",
              "    })();\n",
              "  </script>\n",
              "</div>\n",
              "    </div>\n",
              "  </div>\n"
            ],
            "text/plain": [
              "          UserID    MovieID  \\\n",
              "0      ur0000001  tt1144884   \n",
              "1      ur0000002  tt0119237   \n",
              "2      ur0000002  tt0120741   \n",
              "3      ur0000002  tt0134619   \n",
              "4      ur0000002  tt0120746   \n",
              "...          ...        ...   \n",
              "17003  ur0101084  tt0115571   \n",
              "17004  ur0101084  tt6794990   \n",
              "17005  ur0101106  tt0191653   \n",
              "17006  ur0101106  tt0184456   \n",
              "17007  ur0101106  tt0139082   \n",
              "\n",
              "                                                  Review  Rating  \n",
              "0      A very mediocre addition to the Final Destinat...       4  \n",
              "1      Memo to Mr. Korine: a movie should have someth...       2  \n",
              "2      All the good jokes were in the trailer.  This ...       5  \n",
              "3      As a paranoia thriller, this mostly works as f...       4  \n",
              "4      Cracking yarn.  And decent swordplay as well. ...       7  \n",
              "...                                                  ...     ...  \n",
              "17003  The Arrival has talented actors, reasonable sp...       5  \n",
              "17004  The story begins with finding a missing female...       4  \n",
              "17005  I'll usually just flip right by a movie when I...       6  \n",
              "17006  The Apollo Movie Guide was right.  Since I had...       4  \n",
              "17007  ...from the train, and almost all the way thro...       2  \n",
              "\n",
              "[17008 rows x 4 columns]"
            ]
          },
          "execution_count": 5,
          "metadata": {},
          "output_type": "execute_result"
        }
      ],
      "source": [
        "parquet_file_path = '/content/drive/MyDrive/IMDB_User_Movie_Rating_Dataset_By_Web_Scrapping/Final_IMDB_dataset_users_movie_review_rating.parquet'\n",
        "\n",
        "df = pd.read_parquet(parquet_file_path)\n",
        "df"
      ]
    },
    {
      "cell_type": "code",
      "execution_count": 6,
      "metadata": {
        "colab": {
          "base_uri": "https://localhost:8080/"
        },
        "id": "kUdMYp5ehfTz",
        "outputId": "a5c71aec-4667-4f54-e368-a72e75baedf3"
      },
      "outputs": [
        {
          "name": "stdout",
          "output_type": "stream",
          "text": [
            "Information about our Imdb Web Scraped Dataset:\n",
            "- Number of unique users: 3366\n",
            "- Number of unique movies: 9335\n",
            "- Total number of reviews: 17008\n",
            "- Unique rating values: [1, 2, 3, 4, 5, 6, 7, 8, 9, 10]\n"
          ]
        }
      ],
      "source": [
        "unique_users = len(df['UserID'].unique())\n",
        "unique_movies = len(df['MovieID'].unique())\n",
        "total_reviews = df.shape[0]\n",
        "rating_values = sorted(df.Rating.unique())\n",
        "\n",
        "print('Information about our Imdb Web Scraped Dataset:')\n",
        "print(f'- Number of unique users: {unique_users}')\n",
        "print(f'- Number of unique movies: {unique_movies}')\n",
        "print(f'- Total number of reviews: {total_reviews}')\n",
        "print(f'- Unique rating values: {rating_values}')"
      ]
    },
    {
      "cell_type": "code",
      "execution_count": 7,
      "metadata": {
        "colab": {
          "base_uri": "https://localhost:8080/"
        },
        "id": "ce4ILHuq8ZEq",
        "outputId": "50412bb0-7a34-423d-893e-f33f4007b1f5"
      },
      "outputs": [
        {
          "name": "stdout",
          "output_type": "stream",
          "text": [
            "Now Unique Rating values : \n"
          ]
        },
        {
          "data": {
            "text/plain": [
              "[1, 2, 3, 4, 5]"
            ]
          },
          "execution_count": 7,
          "metadata": {},
          "output_type": "execute_result"
        }
      ],
      "source": [
        "# Our Imdb Dataset contains rating scale from 1 to 10\n",
        "\n",
        "# Function to scale down ratings from a 1-10 scale to a 1-5 scale to prepare data for training a model to predict 5-star ratings from reviews\n",
        "def Scale_down_rating(rating):\n",
        "    if rating <= 2:\n",
        "        return 1\n",
        "\n",
        "    elif rating <= 4:\n",
        "        return 2\n",
        "\n",
        "    elif rating <= 6:\n",
        "        return 3\n",
        "\n",
        "    elif rating <= 8:\n",
        "        return 4\n",
        "\n",
        "    return 5\n",
        "\n",
        "df['Rating'] = df.Rating.apply(Scale_down_rating)\n",
        "print('Now Unique Rating values : ')\n",
        "sorted(df.Rating.unique())"
      ]
    },
    {
      "cell_type": "code",
      "execution_count": 8,
      "metadata": {
        "colab": {
          "base_uri": "https://localhost:8080/"
        },
        "id": "D461Lx7Ckyhm",
        "outputId": "d5b1130c-ad13-4263-86ba-67a56ffca0fd"
      },
      "outputs": [
        {
          "name": "stdout",
          "output_type": "stream",
          "text": [
            "Converted Rating into 0-Indexed Based Rating\n"
          ]
        },
        {
          "data": {
            "text/plain": [
              "[0, 1, 2, 3, 4]"
            ]
          },
          "execution_count": 8,
          "metadata": {},
          "output_type": "execute_result"
        }
      ],
      "source": [
        "# Movie Ratings are from 1 to 5 , It can be considered as classes\n",
        "# Making the Movie Rating to a 0-based index\n",
        "# Convert 1-5 scale to 0-4 scale\n",
        "\n",
        "def map_rating(rating):\n",
        "\n",
        "    if rating == 1:\n",
        "      return 0\n",
        "\n",
        "    elif rating == 2:\n",
        "      return 1\n",
        "\n",
        "    elif rating == 3:\n",
        "      return 2\n",
        "\n",
        "    elif rating == 4:\n",
        "      return 3\n",
        "\n",
        "    return 4\n",
        "\n",
        "df['Rating'] = df.Rating.apply(map_rating)\n",
        "\n",
        "print('Converted Rating into 0-Indexed Based Rating')\n",
        "sorted(df.Rating.unique())"
      ]
    },
    {
      "cell_type": "code",
      "execution_count": 9,
      "metadata": {
        "colab": {
          "base_uri": "https://localhost:8080/",
          "height": 895
        },
        "id": "8iYzDEKLn5vr",
        "outputId": "7f73f944-f0af-448b-b3ea-bf2442df1bef"
      },
      "outputs": [
        {
          "name": "stderr",
          "output_type": "stream",
          "text": [
            "<ipython-input-9-91883941a3b2>:4: FutureWarning: \n",
            "\n",
            "Passing `palette` without assigning `hue` is deprecated and will be removed in v0.14.0. Assign the `x` variable to `hue` and set `legend=False` for the same effect.\n",
            "\n",
            "  sns.countplot(x='Rating', data=df,palette=custom_palette)\n"
          ]
        },
        {
          "data": {
            "image/png": "[encoded data removed]",
            "text/plain": [
              "<Figure size 1200x800 with 1 Axes>"
            ]
          },
          "metadata": {
            "image/png": {
              "height": 771,
              "width": 1051
            }
          },
          "output_type": "display_data"
        }
      ],
      "source": [
        "class_names = ['1-Star', '2-Star', '3-Star', '4-Star', '5-Star']\n",
        "custom_palette = sns.color_palette(\"tab10\")[:len(class_names)]\n",
        "\n",
        "sns.countplot(x='Rating', data=df,palette=custom_palette)\n",
        "plt.title('Count Plot of Ratings')\n",
        "plt.xlabel('Rating')\n",
        "plt.ylabel('Reviews Count')\n",
        "plt.xticks(ticks=range(5), labels=class_names, rotation=45)  # Customize x-axis labels\n",
        "plt.show()"
      ]
    },
    {
      "cell_type": "code",
      "execution_count": 10,
      "metadata": {
        "colab": {
          "base_uri": "https://localhost:8080/"
        },
        "id": "m2l737qmzV7F",
        "outputId": "075b749e-2d8f-45d3-f2f3-5d64a692a66a"
      },
      "outputs": [
        {
          "name": "stdout",
          "output_type": "stream",
          "text": [
            "GPU memory information:\n",
            "GPU 0 (Tesla T4): 15102.06 MB total memory\n",
            "GPU with the highest memory usage:\n",
            "GPU 0 (Tesla T4): 0.00 MB\n"
          ]
        }
      ],
      "source": [
        "check_gpu_info()"
      ]
    },
    {
      "cell_type": "markdown",
      "metadata": {
        "id": "t2i6JJ2br_Gs"
      },
      "source": [
        "### Review column is be the features and Rating column is the target"
      ]
    },
    {
      "cell_type": "code",
      "execution_count": 11,
      "metadata": {
        "id": "Q5n-ipTur3Uh"
      },
      "outputs": [],
      "source": [
        "reviews = df.Review.to_list()\n",
        "targets = df.Rating.to_list()"
      ]
    },
    {
      "cell_type": "markdown",
      "metadata": {
        "id": "oZngVgULvE6R"
      },
      "source": [
        "## Defining the Transformer and Tokenizor"
      ]
    },
    {
      "cell_type": "code",
      "execution_count": 12,
      "metadata": {
        "colab": {
          "base_uri": "https://localhost:8080/",
          "height": 269,
          "referenced_widgets": [
            "75ff2aba08d84b8cba05b8648b37b706",
            "640caf7dba79444cb02ef10b304a99ab",
            "86de8e92167c470ea2840f4fde228207",
            "50afd467d0e04907864434954433d0b4",
            "9cf8d88dffaf4fdba446fac2af9c1a4c",
            "4a45dac5c57441239790a74224b2bad9",
            "1b54a7c0d6ca4220b9609a695d50095e",
            "4a00e5188c024876bb5064e3e889aef8",
            "27ff7120a65f480295fd1d6cc1a884ac",
            "f58be77c43c744baa557a1adeddda71f",
            "15c105bf58b04058b7f517e66f1982f9",
            "2a4d946abb7743e68a04a02eba6b7d5e",
            "4f82b5add6c74e53b3b07b717b4a3d16",
            "1a6dd608f6444efea9d82607cf6a3442",
            "45dfe56befad4691b850352ec40e8707",
            "0f322801fc7d45c082a6a6d1a3f75de4",
            "dc52349e935549a2a3b1fb9cb5c4f9bd",
            "1504839cdea24103b8d5db0ad26c7774",
            "2d5598dcd9434932949717c0dd0323d0",
            "723b10bef8dd4822839ec5f34f552ff5",
            "76f49afecd3b4b9b971d4bf2072d8a1b",
            "19413229c9f446399d7bb590b64e1758",
            "d9da7d487d8d4ca9a97c5b2a9ec93535",
            "454665eedf874a199fb871197cc2acc3",
            "3313ca8b2d1e469b8e9c9abe90951f33",
            "89333c91133f4d0698294336036cd992",
            "df999301ed984b548ae11f355df1c277",
            "07e3bf57f93c40b0864f9d93a44d929d",
            "04d4c60fec2f4fe38aec3ccc765d7894",
            "07626cf795734fd5a7ca1b9d367d0817",
            "e7b9dca6d8c847698ca85bcb5c580d7b",
            "cd50bb35ce4440cb98528c65fa03a966",
            "341f84fefcc04909830d2f6946d4c916",
            "5c2a72c23fe14c63845ecc85609024fc",
            "ed5cecd4bdee45b8b7433022ebe4550d",
            "1c853ba91fa3427abb3b6951e1faa79c",
            "61dfd840e0a344dfaee794601b44bd9f",
            "76752b440e1e45669c1a8e1e81f322b9",
            "04ff9ada48a0498bbdaa865f0610104b",
            "da955d726462477585d12caff0494b22",
            "29dba80a6937473d8252794493be7495",
            "43491ddf726648abbc31fe53849d18f8",
            "07eb6c86260d4e16899f7b69c0b12ce2",
            "b97864e0a45b41d58ea51f621b424219"
          ]
        },
        "id": "i9hE_bpRvGDl",
        "outputId": "085dc261-7dce-4c61-a4f5-6f9076a1484c"
      },
      "outputs": [
        {
          "name": "stderr",
          "output_type": "stream",
          "text": [
            "/usr/local/lib/python3.10/dist-packages/huggingface_hub/utils/_token.py:88: UserWarning: \n",
            "The secret `HF_TOKEN` does not exist in your Colab secrets.\n",
            "To authenticate with the Hugging Face Hub, create a token in your settings tab (https://huggingface.co/settings/tokens), set it as secret in your Google Colab and restart your session.\n",
            "You will be able to reuse this secret in all of your notebooks.\n",
            "Please note that authentication is recommended but still optional to access public models or datasets.\n",
            "  warnings.warn(\n"
          ]
        },
        {
          "data": {
            "application/vnd.jupyter.widget-view+json": {
              "model_id": "75ff2aba08d84b8cba05b8648b37b706",
              "version_major": 2,
              "version_minor": 0
            },
            "text/plain": [
              "tokenizer_config.json:   0%|          | 0.00/48.0 [00:00<?, ?B/s]"
            ]
          },
          "metadata": {},
          "output_type": "display_data"
        },
        {
          "data": {
            "application/vnd.jupyter.widget-view+json": {
              "model_id": "2a4d946abb7743e68a04a02eba6b7d5e",
              "version_major": 2,
              "version_minor": 0
            },
            "text/plain": [
              "vocab.txt:   0%|          | 0.00/232k [00:00<?, ?B/s]"
            ]
          },
          "metadata": {},
          "output_type": "display_data"
        },
        {
          "data": {
            "application/vnd.jupyter.widget-view+json": {
              "model_id": "d9da7d487d8d4ca9a97c5b2a9ec93535",
              "version_major": 2,
              "version_minor": 0
            },
            "text/plain": [
              "tokenizer.json:   0%|          | 0.00/466k [00:00<?, ?B/s]"
            ]
          },
          "metadata": {},
          "output_type": "display_data"
        },
        {
          "data": {
            "application/vnd.jupyter.widget-view+json": {
              "model_id": "5c2a72c23fe14c63845ecc85609024fc",
              "version_major": 2,
              "version_minor": 0
            },
            "text/plain": [
              "config.json:   0%|          | 0.00/570 [00:00<?, ?B/s]"
            ]
          },
          "metadata": {},
          "output_type": "display_data"
        }
      ],
      "source": [
        "pre_trained_model_ckpt = 'bert-base-uncased'\n",
        "tokenizer = BertTokenizer.from_pretrained(pre_trained_model_ckpt)"
      ]
    },
    {
      "cell_type": "markdown",
      "metadata": {
        "id": "3HVA2AFFxXM8"
      },
      "source": [
        "### Tokenization and encoding on a Sample Text"
      ]
    },
    {
      "cell_type": "code",
      "execution_count": 14,
      "metadata": {
        "colab": {
          "base_uri": "https://localhost:8080/"
        },
        "id": "VowGxStpxV6N",
        "outputId": "8e71c220-dcec-4480-a1ce-a40abba62810"
      },
      "outputs": [
        {
          "name": "stdout",
          "output_type": "stream",
          "text": [
            " Sentence: Visually stunning captivating performances thrilling ride start to finish\n",
            "   Tokens: ['visually', 'stunning', 'capt', '##ivating', 'performances', 'thrilling', 'ride', 'start', 'to', 'finish']\n",
            "Token IDs: [17453, 14726, 14408, 17441, 4616, 26162, 4536, 2707, 2000, 3926]\n"
          ]
        }
      ],
      "source": [
        "sample_txt = 'Visually stunning captivating performances thrilling ride start to finish'\n",
        "\n",
        "tokens = tokenizer.tokenize(sample_txt)\n",
        "\n",
        "token_ids = tokenizer.convert_tokens_to_ids(tokens)\n",
        "\n",
        "print(f' Sentence: {sample_txt}')\n",
        "print(f'   Tokens: {tokens}')\n",
        "print(f'Token IDs: {token_ids}')"
      ]
    },
    {
      "cell_type": "code",
      "execution_count": 15,
      "metadata": {
        "colab": {
          "base_uri": "https://localhost:8080/"
        },
        "id": "y2KHkQMkXg10",
        "outputId": "9b4ef492-432b-435a-bf25-215d3b40787f"
      },
      "outputs": [
        {
          "name": "stdout",
          "output_type": "stream",
          "text": [
            "Encoding keys: dict_keys(['input_ids', 'attention_mask'])\n",
            "12\n",
            "tensor([  101, 17453, 14726, 14408, 17441,  4616, 26162,  4536,  2707,  2000,\n",
            "         3926,   102])\n",
            "12\n",
            "tensor([1, 1, 1, 1, 1, 1, 1, 1, 1, 1, 1, 1])\n",
            "['[CLS]', 'visually', 'stunning', 'capt', '##ivating', 'performances', 'thrilling', 'ride', 'start', 'to', 'finish', '[SEP]']\n"
          ]
        }
      ],
      "source": [
        "encoding = tokenizer.encode_plus(\n",
        "    sample_txt,\n",
        "    max_length = 32,\n",
        "    truncation=True,\n",
        "    padding=True,\n",
        "    add_special_tokens=True, # Add '[CLS]' and '[SEP]\n",
        "    return_token_type_ids=False, # Token type IDs are used in models like BERT that support token types (e.g., sentence pairs for tasks like question answering).\n",
        "    return_attention_mask=True, # Attention masks indicate which tokens are actual words and which ones are padding tokens\n",
        "    return_tensors='pt' # Return pytorch tensors\n",
        ")\n",
        "# It provides Encoded input sequence and attention mask\n",
        "\n",
        "# tensors - an Multi-dimension array similar to a numpy array.\n",
        "# However, tensors are specifically designed to efficiently represent and manipulate numerical data, and they are optimized for GPU acceleration.\n",
        "\n",
        "print(f'Encoding keys: {encoding.keys()}')\n",
        "print(len(encoding['input_ids'][0]))\n",
        "print(encoding['input_ids'][0])\n",
        "print(len(encoding['attention_mask'][0]))\n",
        "print(encoding['attention_mask'][0])\n",
        "print(tokenizer.convert_ids_to_tokens(encoding['input_ids'][0]))"
      ]
    },
    {
      "cell_type": "markdown",
      "metadata": {
        "id": "RTGy5oT3eL0D"
      },
      "source": [
        "### EDA of token counts in the dataset"
      ]
    },
    {
      "cell_type": "code",
      "execution_count": 16,
      "metadata": {
        "colab": {
          "base_uri": "https://localhost:8080/"
        },
        "id": "3RutTxvuegun",
        "outputId": "bad3f100-3550-435f-9a3b-d15bdb9f3cab"
      },
      "outputs": [
        {
          "name": "stderr",
          "output_type": "stream",
          "text": [
            "Token indices sequence length is longer than the specified maximum sequence length for this model (592 > 512). Running this sequence through the model will result in indexing errors\n"
          ]
        }
      ],
      "source": [
        "token_length_list = []\n",
        "for review in df.Review:\n",
        "    tokens = tokenizer.encode_plus(review)['input_ids']\n",
        "    token_length_list.append(len(tokens))"
      ]
    },
    {
      "cell_type": "code",
      "execution_count": 19,
      "metadata": {
        "colab": {
          "base_uri": "https://localhost:8080/",
          "height": 1000
        },
        "id": "D_VkZF4RiN35",
        "outputId": "d6322eb1-f883-43ff-8ee3-7b91f176e824"
      },
      "outputs": [
        {
          "data": {
            "image/png": "[encoded data removed]",
            "text/plain": [
              "<Figure size 1200x800 with 1 Axes>"
            ]
          },
          "metadata": {
            "image/png": {
              "height": 728,
              "width": 1058
            }
          },
          "output_type": "display_data"
        },
        {
          "data": {
            "image/png": "[encoded data removed]",
            "text/plain": [
              "<Figure size 1200x800 with 1 Axes>"
            ]
          },
          "metadata": {
            "image/png": {
              "height": 728,
              "width": 1058
            }
          },
          "output_type": "display_data"
        }
      ],
      "source": [
        "sns.histplot(token_length_list, kde=True, color='skyblue', edgecolor='black',stat='density')\n",
        "# Histogram of the data with a kernel density estimate (KDE) plot\n",
        "\n",
        "plt.xlabel('Token count')\n",
        "plt.ylabel('Density')\n",
        "plt.title('Token length distribution across reviews')\n",
        "\n",
        "plt.figure()\n",
        "sns.histplot(token_length_list, kde=True, color='skyblue', edgecolor='black', stat='density')\n",
        "plt.xlabel('Token count')\n",
        "plt.ylabel('Density')\n",
        "plt.title('Token length distribution across reviews')\n",
        "plt.xlim(0, 1500)\n",
        "plt.show()"
      ]
    },
    {
      "cell_type": "code",
      "execution_count": null,
      "metadata": {
        "colab": {
          "base_uri": "https://localhost:8080/"
        },
        "id": "B7kO5noUzZLh",
        "outputId": "6d1c793e-7fb9-496c-88fa-037cc7766f69"
      },
      "outputs": [
        {
          "name": "stdout",
          "output_type": "stream",
          "text": [
            "GPU memory information:\n",
            "GPU 0 (Tesla T4): 15102.06 MB total memory\n",
            "GPU with the highest memory usage:\n",
            "GPU 0 (Tesla T4): 0.00 MB\n"
          ]
        }
      ],
      "source": [
        "check_gpu_info()"
      ]
    },
    {
      "cell_type": "markdown",
      "metadata": {
        "id": "0c0w4l42mYVx"
      },
      "source": [
        "## Pre-Processing the Dataset"
      ]
    },
    {
      "cell_type": "markdown",
      "metadata": {
        "id": "rkYZn2q2FOy2"
      },
      "source": [
        "### Dataset Train, Validation and Test Split"
      ]
    },
    {
      "cell_type": "code",
      "execution_count": null,
      "metadata": {
        "colab": {
          "base_uri": "https://localhost:8080/"
        },
        "id": "t3sQIPGpmecO",
        "outputId": "f6b6d9b8-cb53-4ebf-a58a-0b69d56486e9"
      },
      "outputs": [
        {
          "name": "stdout",
          "output_type": "stream",
          "text": [
            "(10204, 4) (3402, 4) (3402, 4)\n"
          ]
        }
      ],
      "source": [
        "df_train, df_test = train_test_split(df, test_size = 0.4, random_state = RANDOM_SEED)\n",
        "\n",
        "df_val, df_test = train_test_split(df_test, test_size = 0.5, random_state = RANDOM_SEED)\n",
        "\n",
        "print(df_train.shape, df_val.shape, df_test.shape)"
      ]
    },
    {
      "cell_type": "markdown",
      "metadata": {
        "id": "C0ukRxXPFh1d"
      },
      "source": [
        "### Tokenizing the Dataset and Creating DataLoaders"
      ]
    },
    {
      "cell_type": "code",
      "execution_count": null,
      "metadata": {
        "id": "hwx7dFsIF70x"
      },
      "outputs": [],
      "source": [
        "# Defining method for Tokenizing the Dataset\n",
        "MAX_LEN = 512\n",
        "BATCH_SIZE = 16\n",
        "\n",
        "# Dataset is an abtract class provided by torch.utils.data\n",
        "# To use it , Make class whihc is the subclass the Abstract class Dataset , and implement its '__len__' and '__get__item' function\n",
        "class ReviewDataset(Dataset):\n",
        "    def __init__(self, reviews, targets, tokenizer, max_len, include_raw_text=False):\n",
        "        self.reviews = reviews\n",
        "        self.targets = targets\n",
        "        self.tokenizer = tokenizer\n",
        "        self.max_len = max_len\n",
        "        self.include_raw_text = include_raw_text\n",
        "\n",
        "    # It should returns the length of Dataset\n",
        "    def __len__(self):\n",
        "        return len(self.reviews)\n",
        "\n",
        "    # It should return a sample from the dataset at given index\n",
        "    # It returns the encoded tokens with their attention mask , the ouput tensor and also review raw_text\n",
        "    def __getitem__(self,item):\n",
        "        review = str(self.reviews[item])\n",
        "        target = self.targets[item]\n",
        "        encoding = self.tokenizer.encode_plus(\n",
        "            review,\n",
        "            add_special_tokens = True,\n",
        "            max_length = self.max_len,\n",
        "            return_token_type_ids = False,\n",
        "            return_attention_mask = True,\n",
        "            truncation = True,\n",
        "            padding='max_length',\n",
        "            return_tensors = 'pt',\n",
        "        )\n",
        "\n",
        "        output = {\n",
        "            'input_ids': encoding['input_ids'].flatten(),\n",
        "            'attention_mask': encoding['attention_mask'].flatten(),\n",
        "            'targets': torch.tensor(target, dtype=torch.long)\n",
        "        }\n",
        "\n",
        "        if self.include_raw_text:\n",
        "            output['review_text'] = review\n",
        "\n",
        "        return output"
      ]
    },
    {
      "cell_type": "code",
      "execution_count": null,
      "metadata": {
        "id": "C6uPV_2GI3At"
      },
      "outputs": [],
      "source": [
        "# Creation of DataLoader\n",
        "# DataLoader is also provided by torch.utils.data\n",
        "# DataLoader provides a convenient way to iterate over batches of data from a dataset\n",
        "\n",
        "pre_trained_model_ckpt = 'bert-base-uncased'\n",
        "tokenizer = BertTokenizer.from_pretrained(pre_trained_model_ckpt)\n",
        "\n",
        "# The DataCollatorWithPadding class is a utility class provided by the Hugging Face transformers library\n",
        "# It Pad all sequences in the batch to the length of the longest sequence in the batch.\n",
        "collator = DataCollatorWithPadding(tokenizer=tokenizer, padding = 'longest' )\n",
        "\n",
        "def create_data_loader(df, tokenizer, max_len = MAX_LEN, batch_size = BATCH_SIZE, include_raw_text = False ):\n",
        "    ds = ReviewDataset(\n",
        "        reviews=df.Review.to_list(),\n",
        "        targets = df.Rating.to_list(),\n",
        "        tokenizer=tokenizer,\n",
        "        max_len=max_len,\n",
        "        include_raw_text=include_raw_text\n",
        "    )\n",
        "\n",
        "    return DataLoader(ds, batch_size=batch_size, collate_fn=collator )"
      ]
    },
    {
      "cell_type": "code",
      "execution_count": null,
      "metadata": {
        "id": "S03V-6JZJShe"
      },
      "outputs": [],
      "source": [
        "train_data_Loader = create_data_loader(df_train, tokenizer)\n",
        "val_data_Loader = create_data_loader(df_val, tokenizer)\n",
        "test_data_Loader = create_data_loader(df_test, tokenizer)"
      ]
    },
    {
      "cell_type": "code",
      "execution_count": null,
      "metadata": {
        "colab": {
          "base_uri": "https://localhost:8080/"
        },
        "id": "uE6C-scJOPu3",
        "outputId": "9f58a7a4-5013-451c-8fd2-bc45caa7e7f5"
      },
      "outputs": [
        {
          "name": "stdout",
          "output_type": "stream",
          "text": [
            "dict_keys(['input_ids', 'attention_mask', 'targets'])\n",
            "torch.Size([16, 512])\n",
            "torch.Size([16, 512])\n",
            "torch.Size([16])\n"
          ]
        }
      ],
      "source": [
        "#Testing to see if the data loader works appropriately\n",
        "data = next(iter(train_data_Loader))\n",
        "\n",
        "print(data.keys()) # dict_keys(['input_ids', 'attention_mask', 'targets'])\n",
        "\n",
        "print(data['input_ids'].shape) # torch.Size([16, 512])\n",
        "\n",
        "print(data['attention_mask'].shape) # torch.Size([16, 512])\n",
        "\n",
        "print(data['targets'].shape) # torch.Size([16])"
      ]
    },
    {
      "cell_type": "markdown",
      "metadata": {
        "id": "5fz3BXR-So-l"
      },
      "source": [
        "## Extending BERT Base Model with a Classifier Layer"
      ]
    },
    {
      "cell_type": "code",
      "execution_count": null,
      "metadata": {
        "id": "RxvvYGQpT07V"
      },
      "outputs": [],
      "source": [
        "# RatingEstimator is a sublcass of nn.module\n",
        "# It indcated its pytorch neural network module\n",
        "# Neec to Implement the forward pass\n",
        "\n",
        "class RatingEstimator(nn.Module):\n",
        "\n",
        "      def __init__(self, n_classes):\n",
        "            # Caling the constructor of 'nn.Module' to initialize the network\n",
        "            super(RatingEstimator, self).__init__()\n",
        "\n",
        "            # Loading the pre-trained Bert-base model , it returns output as seperate tensors rather than as a  dictionary\n",
        "            self.bert = BertModel.from_pretrained(pre_trained_model_ckpt,return_dict=False)\n",
        "\n",
        "            # Multiple inear Layer with Relu activation\n",
        "            # Final linear layer that maps the output of the BERT model to the number of classes\n",
        "            # This layer will be responsible for the final classification.\n",
        "            self.classifier = nn.Sequential(\n",
        "                  nn.Dropout(p = 0.3),\n",
        "                  nn.Linear(768, 512),\n",
        "                  nn.ReLU(),\n",
        "                  nn.Linear(512, 256),\n",
        "                  nn.ReLU(),\n",
        "                  nn.Linear(256, n_classes),\n",
        "            )\n",
        "\n",
        "      def forward(self, input_ids, attention_mask):\n",
        "\n",
        "            # Bert model takes the input token ids and attention mask as input\n",
        "            _, pooled_output = self.bert(\n",
        "                  input_ids = input_ids,\n",
        "                  attention_mask= attention_mask\n",
        "            )\n",
        "\n",
        "            # Applying dropout and passes through final linear layer\n",
        "            output = self.classifier(pooled_output)\n",
        "            return output"
      ]
    },
    {
      "cell_type": "code",
      "execution_count": null,
      "metadata": {
        "colab": {
          "base_uri": "https://localhost:8080/",
          "height": 934,
          "referenced_widgets": [
            "70c32ae996aa45cbaf836c4f8e5713e7",
            "abd4fa49b1cd42c3b6fc1e58e8739057",
            "54975804d9df4dffaedef432bc4c5690",
            "8013cc99f9f944819e6d0faaa385c71e",
            "541f0f2bfa7b4952841ab685d01c1d23",
            "692db5c204074753849406d548ca182f",
            "92ebb9051a0d45538a43e80c5871b188",
            "db517fe6b86943c699ba04a707318884",
            "eb83cfb651f248e5946e52c17991caf2",
            "7bcaf76dea7f49cc9dcfaa07f66fc407",
            "9014f79b9a2b4b07b7e90e05f87a5be4"
          ]
        },
        "id": "vNxpdG-HYb3B",
        "outputId": "447dd002-c99b-4b38-f2e7-4f6ed2bbb485"
      },
      "outputs": [
        {
          "data": {
            "application/vnd.jupyter.widget-view+json": {
              "model_id": "70c32ae996aa45cbaf836c4f8e5713e7",
              "version_major": 2,
              "version_minor": 0
            },
            "text/plain": [
              "model.safetensors:   0%|          | 0.00/440M [00:00<?, ?B/s]"
            ]
          },
          "metadata": {},
          "output_type": "display_data"
        },
        {
          "data": {
            "text/plain": [
              "RatingEstimator(\n",
              "  (bert): BertModel(\n",
              "    (embeddings): BertEmbeddings(\n",
              "      (word_embeddings): Embedding(30522, 768, padding_idx=0)\n",
              "      (position_embeddings): Embedding(512, 768)\n",
              "      (token_type_embeddings): Embedding(2, 768)\n",
              "      (LayerNorm): LayerNorm((768,), eps=1e-12, elementwise_affine=True)\n",
              "      (dropout): Dropout(p=0.1, inplace=False)\n",
              "    )\n",
              "    (encoder): BertEncoder(\n",
              "      (layer): ModuleList(\n",
              "        (0-11): 12 x BertLayer(\n",
              "          (attention): BertAttention(\n",
              "            (self): BertSelfAttention(\n",
              "              (query): Linear(in_features=768, out_features=768, bias=True)\n",
              "              (key): Linear(in_features=768, out_features=768, bias=True)\n",
              "              (value): Linear(in_features=768, out_features=768, bias=True)\n",
              "              (dropout): Dropout(p=0.1, inplace=False)\n",
              "            )\n",
              "            (output): BertSelfOutput(\n",
              "              (dense): Linear(in_features=768, out_features=768, bias=True)\n",
              "              (LayerNorm): LayerNorm((768,), eps=1e-12, elementwise_affine=True)\n",
              "              (dropout): Dropout(p=0.1, inplace=False)\n",
              "            )\n",
              "          )\n",
              "          (intermediate): BertIntermediate(\n",
              "            (dense): Linear(in_features=768, out_features=3072, bias=True)\n",
              "            (intermediate_act_fn): GELUActivation()\n",
              "          )\n",
              "          (output): BertOutput(\n",
              "            (dense): Linear(in_features=3072, out_features=768, bias=True)\n",
              "            (LayerNorm): LayerNorm((768,), eps=1e-12, elementwise_affine=True)\n",
              "            (dropout): Dropout(p=0.1, inplace=False)\n",
              "          )\n",
              "        )\n",
              "      )\n",
              "    )\n",
              "    (pooler): BertPooler(\n",
              "      (dense): Linear(in_features=768, out_features=768, bias=True)\n",
              "      (activation): Tanh()\n",
              "    )\n",
              "  )\n",
              "  (classifier): Sequential(\n",
              "    (0): Dropout(p=0.3, inplace=False)\n",
              "    (1): Linear(in_features=768, out_features=512, bias=True)\n",
              "    (2): ReLU()\n",
              "    (3): Linear(in_features=512, out_features=256, bias=True)\n",
              "    (4): ReLU()\n",
              "    (5): Linear(in_features=256, out_features=5, bias=True)\n",
              "  )\n",
              ")"
            ]
          },
          "execution_count": 25,
          "metadata": {},
          "output_type": "execute_result"
        }
      ],
      "source": [
        "model = RatingEstimator(len(class_names))\n",
        "model = model.to(device)\n",
        "model"
      ]
    },
    {
      "cell_type": "code",
      "execution_count": null,
      "metadata": {
        "colab": {
          "base_uri": "https://localhost:8080/"
        },
        "id": "I90SVrVFzv7v",
        "outputId": "2b4bbc95-f807-45ac-c91b-d91eb002b15e"
      },
      "outputs": [
        {
          "name": "stdout",
          "output_type": "stream",
          "text": [
            "GPU memory information:\n",
            "GPU 0 (Tesla T4): 15102.06 MB total memory\n",
            "GPU with the highest memory usage:\n",
            "GPU 0 (Tesla T4): 421.24 MB\n"
          ]
        }
      ],
      "source": [
        "check_gpu_info()"
      ]
    },
    {
      "cell_type": "code",
      "execution_count": null,
      "metadata": {
        "colab": {
          "base_uri": "https://localhost:8080/"
        },
        "id": "QSusu4WJanyZ",
        "outputId": "99875463-4f9b-4a04-e66e-96d60bc8a7dc"
      },
      "outputs": [
        {
          "data": {
            "text/plain": [
              "tensor([[0.1965, 0.1906, 0.1984, 0.2091, 0.2054],\n",
              "        [0.1888, 0.1815, 0.1937, 0.2245, 0.2115],\n",
              "        [0.1901, 0.2032, 0.1965, 0.2146, 0.1956],\n",
              "        [0.1860, 0.1897, 0.1918, 0.2171, 0.2154],\n",
              "        [0.1904, 0.1889, 0.2054, 0.2217, 0.1936],\n",
              "        [0.1951, 0.1954, 0.1918, 0.2198, 0.1979],\n",
              "        [0.1799, 0.2024, 0.1804, 0.2298, 0.2076],\n",
              "        [0.1937, 0.1908, 0.1905, 0.2103, 0.2147],\n",
              "        [0.2053, 0.2011, 0.1733, 0.2193, 0.2011],\n",
              "        [0.1913, 0.1903, 0.1793, 0.2202, 0.2189],\n",
              "        [0.1972, 0.1905, 0.1921, 0.2241, 0.1961],\n",
              "        [0.1876, 0.1873, 0.1836, 0.2270, 0.2144],\n",
              "        [0.2037, 0.1973, 0.1833, 0.2119, 0.2038],\n",
              "        [0.1904, 0.1962, 0.1972, 0.2232, 0.1930],\n",
              "        [0.1975, 0.1864, 0.1975, 0.2188, 0.1997],\n",
              "        [0.2032, 0.1940, 0.1860, 0.2189, 0.1979]], device='cuda:0')"
            ]
          },
          "execution_count": 27,
          "metadata": {},
          "output_type": "execute_result"
        }
      ],
      "source": [
        "# Just An evaluation run of the model\n",
        "input_ids = data['input_ids'].to(device)\n",
        "attention_mask = data['attention_mask'].to(device)\n",
        "\n",
        "# input_ids = data['input_ids']\n",
        "# attention_mask = data['attention_mask']\n",
        "\n",
        "final_output = F.softmax(model(input_ids,attention_mask), dim = 1)\n",
        "\n",
        "input_ids = input_ids.detach()\n",
        "attention_mask = attention_mask.detach()\n",
        "final_output = final_output.detach()\n",
        "\n",
        "torch.cuda.empty_cache()\n",
        "\n",
        "final_output"
      ]
    },
    {
      "cell_type": "code",
      "execution_count": null,
      "metadata": {
        "colab": {
          "base_uri": "https://localhost:8080/"
        },
        "id": "405j5obQL22o",
        "outputId": "1a142882-45a1-4eb9-94d6-33a1b1f768b1"
      },
      "outputs": [
        {
          "name": "stdout",
          "output_type": "stream",
          "text": [
            "GPU memory information:\n",
            "GPU 0 (Tesla T4): 15102.06 MB total memory\n",
            "GPU with the highest memory usage:\n",
            "GPU 0 (Tesla T4): 429.49 MB\n"
          ]
        }
      ],
      "source": [
        "check_gpu_info()"
      ]
    },
    {
      "cell_type": "markdown",
      "metadata": {
        "id": "QcTtBTGPhk5F"
      },
      "source": [
        "## Training the Model"
      ]
    },
    {
      "cell_type": "code",
      "execution_count": null,
      "metadata": {
        "id": "NgRi63NEhnyl"
      },
      "outputs": [],
      "source": [
        "# Defining loss function ,Optimizer and Scheduler\n",
        "\n",
        "EPOCHS = 10\n",
        "learning_rate = 1e-5\n",
        "total_steps = len(train_data_Loader)*EPOCHS\n",
        "\n",
        "optimizer = optim.Adam(model.parameters(),lr=learning_rate)\n",
        "\n",
        "# The Scheduler will modify learning rate after each iteration that speed-up the convergence.\n",
        "scheduler = get_linear_schedule_with_warmup(\n",
        "    optimizer,\n",
        "    num_warmup_steps=0,\n",
        "    num_training_steps=total_steps\n",
        ")\n",
        "\n",
        "# loss_fn = nn.CrossEntropyLoss().to(device)\n",
        "loss_fn = nn.CrossEntropyLoss().to(device)\n"
      ]
    },
    {
      "cell_type": "code",
      "execution_count": null,
      "metadata": {
        "colab": {
          "base_uri": "https://localhost:8080/"
        },
        "id": "szfgHxft0-7x",
        "outputId": "5e42d4aa-5e0b-49cb-d974-d7d1ccbc1e50"
      },
      "outputs": [
        {
          "name": "stdout",
          "output_type": "stream",
          "text": [
            "GPU memory information:\n",
            "GPU 0 (Tesla T4): 15102.06 MB total memory\n",
            "GPU with the highest memory usage:\n",
            "GPU 0 (Tesla T4): 429.49 MB\n"
          ]
        }
      ],
      "source": [
        "check_gpu_info()"
      ]
    },
    {
      "cell_type": "code",
      "execution_count": null,
      "metadata": {
        "id": "8oBO2ceUnBhH"
      },
      "outputs": [],
      "source": [
        "# The 'train_model' function below trains the model (forward pass and backward pass) for one epoch\n",
        "# It also calculate accuracy and average loss for an epoch.\n",
        "\n",
        "def train_model(model, data_loader, loss_fn, optimizer, device, scheduler, n_examples, print_every=100):\n",
        "    model = model.train()\n",
        "    train_loss = []\n",
        "    correct_predictions = 0\n",
        "\n",
        "    print('Training on Train Dataset')\n",
        "\n",
        "    # loop for a batch\n",
        "    for batch_idx, d in enumerate(data_loader):\n",
        "        input_ids = d['input_ids'].to(device)\n",
        "        attention_masks = d['attention_mask'].to(device)\n",
        "        targets = d['targets'].to(device)\n",
        "\n",
        "        # Forward Pass\n",
        "        output = model(input_ids, attention_masks)\n",
        "        loss = loss_fn(output, targets) \n",
        "        _, preds = torch.max(output, dim=1)\n",
        "\n",
        "        # Backward Propagation\n",
        "        loss.backward()\n",
        "        nn.utils.clip_grad_norm_(model.parameters(), max_norm=1.0)\n",
        "        optimizer.step()\n",
        "        scheduler.step()\n",
        "        optimizer.zero_grad()\n",
        "\n",
        "        # Training loss and number of correct prediction\n",
        "        train_loss.append(loss.item())\n",
        "        correct_predictions += torch.sum(preds == targets)\n",
        "\n",
        "        input_ids = input_ids.detach()\n",
        "        attention_masks = attention_masks.detach()\n",
        "        targets = targets.detach()\n",
        "\n",
        "        if batch_idx % print_every == 0:\n",
        "            print(f'At Batch {batch_idx}/{len(data_loader)}, Loss: {loss.item()}')\n",
        "\n",
        "    accuracy = correct_predictions / n_examples\n",
        "    average_loss = np.mean(train_loss)\n",
        "\n",
        "    return accuracy, average_loss"
      ]
    },
    {
      "cell_type": "code",
      "execution_count": null,
      "metadata": {
        "id": "LUxAZgYCviHv"
      },
      "outputs": [],
      "source": [
        "# The 'eval_model' fuction evaluate model performance on evaluation data for every epoch\n",
        "# It is done by calculation accuracy and average loss.\n",
        "\n",
        "def eval_model(model, data_loader, loss_fn, device, n_examples, print_every=100):\n",
        "    model = model.eval()\n",
        "    eval_loss = []\n",
        "    correct_predictions = 0\n",
        "\n",
        "    print('Evaluation on Validation Dataset')\n",
        "\n",
        "    # loop for a batch\n",
        "    with torch.no_grad():\n",
        "      for batch_idx, d in enumerate(data_loader):\n",
        "          input_ids = d['input_ids'].to(device)\n",
        "          attention_masks = d['attention_mask'].to(device)\n",
        "          targets = d['targets'].to(device)\n",
        "\n",
        "          # Forward Pass\n",
        "          output = model(input_ids, attention_masks)\n",
        "          _, preds = torch.max(output, dim=1)\n",
        "\n",
        "          # Evaluation loss and number of correct predictions\n",
        "          loss = loss_fn(output, targets)\n",
        "          correct_predictions += torch.sum(preds == targets)\n",
        "          eval_loss.append(loss.item())\n",
        "\n",
        "          input_ids = input_ids.detach()\n",
        "          attention_masks = attention_masks.detach()\n",
        "          targets = targets.detach()\n",
        "\n",
        "          if batch_idx % print_every == 0:\n",
        "              print(f'At Batch {batch_idx}/{len(data_loader)}, Loss: {loss.item()}')\n",
        "\n",
        "    accuracy = correct_predictions / n_examples\n",
        "    average_loss = np.mean(eval_loss)\n",
        "\n",
        "    return accuracy, average_loss\n"
      ]
    },
    {
      "cell_type": "code",
      "execution_count": null,
      "metadata": {
        "colab": {
          "base_uri": "https://localhost:8080/"
        },
        "id": "mInZjned1Fir",
        "outputId": "0a880aa7-a957-494a-9c36-0217228596ab"
      },
      "outputs": [
        {
          "name": "stdout",
          "output_type": "stream",
          "text": [
            "GPU memory information:\n",
            "GPU 0 (Tesla T4): 15102.06 MB total memory\n",
            "GPU with the highest memory usage:\n",
            "GPU 0 (Tesla T4): 429.49 MB\n"
          ]
        }
      ],
      "source": [
        "check_gpu_info()"
      ]
    },
    {
      "cell_type": "markdown",
      "metadata": {
        "id": "4owiiQecdHk6"
      },
      "source": [
        "### Training Loop"
      ]
    },
    {
      "cell_type": "code",
      "execution_count": null,
      "metadata": {
        "colab": {
          "base_uri": "https://localhost:8080/"
        },
        "id": "BaEU8tYZZPTc",
        "outputId": "dea108c8-cb0e-4c28-a7c5-684c72359571"
      },
      "outputs": [
        {
          "name": "stdout",
          "output_type": "stream",
          "text": [
            "In this /content/drive/MyDrive/IMDB_User_Movie_Rating_Dataset_By_Web_Scrapping/Model_and_state_save/finetune_bert_best_model_parameters.bin\n",
            "Model Weights and parameters will be saved\n",
            " \n",
            "Epoch 1/10\n",
            "---------------------------------------------\n",
            "Training on Train Dataset\n",
            "At Batch 0/638, Loss: 1.6231824159622192\n",
            "At Batch 100/638, Loss: 1.577833890914917\n",
            "At Batch 200/638, Loss: 1.3907091617584229\n",
            "At Batch 300/638, Loss: 1.1325682401657104\n",
            "At Batch 400/638, Loss: 1.1438196897506714\n",
            "At Batch 500/638, Loss: 1.163562297821045\n",
            "At Batch 600/638, Loss: 1.3489818572998047\n",
            "Training loss: 1.308504493912933, Training accuracy: 0.43522146344184875\n",
            "Evaluation on Validation Dataset\n",
            "At Batch 0/213, Loss: 1.1551144123077393\n",
            "At Batch 100/213, Loss: 0.8650509119033813\n",
            "At Batch 200/213, Loss: 1.135319709777832\n",
            "Validation loss: 1.108105846693818, Validation accuracy: 0.5399764776229858\n",
            "Model Weights and Parameters has been saved\n",
            " \n",
            "Epoch 2/10\n",
            "---------------------------------------------\n",
            "Training on Train Dataset\n",
            "At Batch 0/638, Loss: 1.2122749090194702\n",
            "At Batch 100/638, Loss: 1.1447560787200928\n",
            "At Batch 200/638, Loss: 1.0147395133972168\n",
            "At Batch 300/638, Loss: 0.9300837516784668\n",
            "At Batch 400/638, Loss: 0.73997962474823\n",
            "At Batch 500/638, Loss: 1.0327140092849731\n",
            "At Batch 600/638, Loss: 1.3129106760025024\n",
            "Training loss: 1.0026809213490322, Training accuracy: 0.5858486890792847\n",
            "Evaluation on Validation Dataset\n",
            "At Batch 0/213, Loss: 1.1945178508758545\n",
            "At Batch 100/213, Loss: 0.6567049026489258\n",
            "At Batch 200/213, Loss: 1.1903258562088013\n",
            "Validation loss: 1.076040291170559, Validation accuracy: 0.534685492515564\n",
            " \n",
            "Epoch 3/10\n",
            "---------------------------------------------\n",
            "Training on Train Dataset\n",
            "At Batch 0/638, Loss: 0.9203948378562927\n",
            "At Batch 100/638, Loss: 0.9787044525146484\n",
            "At Batch 200/638, Loss: 1.1232413053512573\n",
            "At Batch 300/638, Loss: 0.7348361611366272\n",
            "At Batch 400/638, Loss: 0.5602626800537109\n",
            "At Batch 500/638, Loss: 0.950955867767334\n",
            "At Batch 600/638, Loss: 1.191718339920044\n",
            "Training loss: 0.8432733420761401, Training accuracy: 0.6622892618179321\n",
            "Evaluation on Validation Dataset\n",
            "At Batch 0/213, Loss: 0.9890108704566956\n",
            "At Batch 100/213, Loss: 0.810105562210083\n",
            "At Batch 200/213, Loss: 1.2258093357086182\n",
            "Validation loss: 1.0660291691900978, Validation accuracy: 0.5608465671539307\n",
            "Model Weights and Parameters has been saved\n",
            " \n",
            "Epoch 4/10\n",
            "---------------------------------------------\n",
            "Training on Train Dataset\n",
            "At Batch 0/638, Loss: 0.6305066347122192\n",
            "At Batch 100/638, Loss: 0.8113557696342468\n",
            "At Batch 200/638, Loss: 0.9866341352462769\n",
            "At Batch 300/638, Loss: 0.5503999590873718\n",
            "At Batch 400/638, Loss: 0.5290263295173645\n",
            "At Batch 500/638, Loss: 0.7715541124343872\n",
            "At Batch 600/638, Loss: 1.305480718612671\n",
            "Training loss: 0.7316949039604222, Training accuracy: 0.7186397314071655\n",
            "Evaluation on Validation Dataset\n",
            "At Batch 0/213, Loss: 0.9612563848495483\n",
            "At Batch 100/213, Loss: 0.9209452271461487\n",
            "At Batch 200/213, Loss: 1.292833685874939\n",
            "Validation loss: 1.125085027005191, Validation accuracy: 0.5770134925842285\n",
            "Model Weights and Parameters has been saved\n",
            " \n",
            "Epoch 5/10\n",
            "---------------------------------------------\n",
            "Training on Train Dataset\n",
            "At Batch 0/638, Loss: 0.42591366171836853\n",
            "At Batch 100/638, Loss: 0.7245357036590576\n",
            "At Batch 200/638, Loss: 0.7608238458633423\n",
            "At Batch 300/638, Loss: 0.43473151326179504\n",
            "At Batch 400/638, Loss: 0.3365367650985718\n",
            "At Batch 500/638, Loss: 0.7113614678382874\n",
            "At Batch 600/638, Loss: 1.1777106523513794\n",
            "Training loss: 0.6353705778110738, Training accuracy: 0.7648960947990417\n",
            "Evaluation on Validation Dataset\n",
            "At Batch 0/213, Loss: 0.7808138132095337\n",
            "At Batch 100/213, Loss: 1.077185869216919\n",
            "At Batch 200/213, Loss: 1.3216270208358765\n",
            "Validation loss: 1.20313567412851, Validation accuracy: 0.5658435821533203\n",
            " \n",
            "Epoch 6/10\n",
            "---------------------------------------------\n",
            "Training on Train Dataset\n",
            "At Batch 0/638, Loss: 0.5462831258773804\n",
            "At Batch 100/638, Loss: 0.5286600589752197\n",
            "At Batch 200/638, Loss: 0.6000381708145142\n",
            "At Batch 300/638, Loss: 0.5808085799217224\n",
            "At Batch 400/638, Loss: 0.2965656518936157\n",
            "At Batch 500/638, Loss: 0.7356943488121033\n",
            "At Batch 600/638, Loss: 1.11844003200531\n",
            "Training loss: 0.5469769090881168, Training accuracy: 0.8064484596252441\n",
            "Evaluation on Validation Dataset\n",
            "At Batch 0/213, Loss: 0.8597254753112793\n",
            "At Batch 100/213, Loss: 1.1255388259887695\n",
            "At Batch 200/213, Loss: 1.2831168174743652\n",
            "Validation loss: 1.2560130732719887, Validation accuracy: 0.5776013731956482\n",
            "Model Weights and Parameters has been saved\n",
            " \n",
            "Epoch 7/10\n",
            "---------------------------------------------\n",
            "Training on Train Dataset\n",
            "At Batch 0/638, Loss: 0.6241092681884766\n",
            "At Batch 100/638, Loss: 0.549969494342804\n",
            "At Batch 200/638, Loss: 0.825242817401886\n",
            "At Batch 300/638, Loss: 0.35527172684669495\n",
            "At Batch 400/638, Loss: 0.26705989241600037\n",
            "At Batch 500/638, Loss: 0.64141845703125\n",
            "At Batch 600/638, Loss: 0.8803171515464783\n",
            "Training loss: 0.47666445986417394, Training accuracy: 0.83937668800354\n",
            "Evaluation on Validation Dataset\n",
            "At Batch 0/213, Loss: 1.1331372261047363\n",
            "At Batch 100/213, Loss: 1.0355526208877563\n",
            "At Batch 200/213, Loss: 1.3033732175827026\n",
            "Validation loss: 1.2975316668899965, Validation accuracy: 0.5723103880882263\n",
            " \n",
            "Epoch 8/10\n",
            "---------------------------------------------\n",
            "Training on Train Dataset\n",
            "At Batch 0/638, Loss: 0.36312776803970337\n",
            "At Batch 100/638, Loss: 0.5192419290542603\n",
            "At Batch 200/638, Loss: 0.7093300223350525\n",
            "At Batch 300/638, Loss: 0.4279124140739441\n",
            "At Batch 400/638, Loss: 0.13551487028598785\n",
            "At Batch 500/638, Loss: 0.48173585534095764\n",
            "At Batch 600/638, Loss: 1.051740050315857\n",
            "Training loss: 0.42494918420023303, Training accuracy: 0.8608388900756836\n",
            "Evaluation on Validation Dataset\n",
            "At Batch 0/213, Loss: 1.2363096475601196\n",
            "At Batch 100/213, Loss: 1.03585684299469\n",
            "At Batch 200/213, Loss: 1.2692197561264038\n",
            "Validation loss: 1.3484765741047164, Validation accuracy: 0.579365074634552\n",
            "Model Weights and Parameters has been saved\n",
            " \n",
            "Epoch 9/10\n",
            "---------------------------------------------\n",
            "Training on Train Dataset\n",
            "At Batch 0/638, Loss: 0.14982950687408447\n",
            "At Batch 100/638, Loss: 0.34776273369789124\n",
            "At Batch 200/638, Loss: 0.4460148215293884\n",
            "At Batch 300/638, Loss: 0.2673254907131195\n",
            "At Batch 400/638, Loss: 0.11575457453727722\n",
            "At Batch 500/638, Loss: 0.44383883476257324\n",
            "At Batch 600/638, Loss: 0.8198447823524475\n",
            "Training loss: 0.3814249239207996, Training accuracy: 0.8786750435829163\n",
            "Evaluation on Validation Dataset\n",
            "At Batch 0/213, Loss: 1.3289310932159424\n",
            "At Batch 100/213, Loss: 0.9824447631835938\n",
            "At Batch 200/213, Loss: 1.3133575916290283\n",
            "Validation loss: 1.3939967449981843, Validation accuracy: 0.5761316418647766\n",
            " \n",
            "Epoch 10/10\n",
            "---------------------------------------------\n",
            "Training on Train Dataset\n",
            "At Batch 0/638, Loss: 0.14438338577747345\n",
            "At Batch 100/638, Loss: 0.3521532118320465\n",
            "At Batch 200/638, Loss: 0.32308053970336914\n",
            "At Batch 300/638, Loss: 0.41552653908729553\n",
            "At Batch 400/638, Loss: 0.1184496060013771\n",
            "At Batch 500/638, Loss: 0.4001370966434479\n",
            "At Batch 600/638, Loss: 0.7045554518699646\n",
            "Training loss: 0.34620020968319853, Training accuracy: 0.8943551182746887\n",
            "Evaluation on Validation Dataset\n",
            "At Batch 0/213, Loss: 1.3295222520828247\n",
            "At Batch 100/213, Loss: 0.9949814081192017\n",
            "At Batch 200/213, Loss: 1.2619686126708984\n",
            "Validation loss: 1.4050619695947764, Validation accuracy: 0.5802469253540039\n",
            "Model Weights and Parameters has been saved\n",
            " \n"
          ]
        }
      ],
      "source": [
        "file_path = '/content/drive/MyDrive/IMDB_User_Movie_Rating_Dataset_By_Web_Scrapping/Model_and_state_save/finetune_bert_best_model_parameters.bin'\n",
        "history = defaultdict(list)\n",
        "best_accuracy = 0\n",
        "\n",
        "print(f'In this {file_path}')\n",
        "print('Model Weights and parameters will be saved')\n",
        "print(' ')\n",
        "\n",
        "# In this loop we are calling functions train_model() and eval_model()   and validation data\n",
        "# Printing the accuracy and loss for both training and validation data for every epoch\n",
        "# Also saving the model if model performance on validation data improves than the performance in previous epoch.\n",
        "for epoch in range(EPOCHS):\n",
        "\n",
        "    # Training\n",
        "    print(f'Epoch {epoch + 1}/{EPOCHS}')\n",
        "    print('-'*45)\n",
        "\n",
        "    train_acc, train_loss = train_model(\n",
        "        model,\n",
        "        train_data_Loader,\n",
        "        loss_fn,\n",
        "        optimizer,\n",
        "        device,\n",
        "        scheduler,\n",
        "        len(df_train)\n",
        "    )\n",
        "    print(f'Training loss: {train_loss}, Training accuracy: {train_acc}')\n",
        "\n",
        "    val_acc, val_loss = eval_model(\n",
        "        model,\n",
        "        val_data_Loader,\n",
        "        loss_fn,\n",
        "        device,\n",
        "        len(df_val)\n",
        "    )\n",
        "    print(f'Validation loss: {val_loss}, Validation accuracy: {val_acc}')\n",
        "\n",
        "    # saving the logs\n",
        "    history['train_acc'].append(train_acc)\n",
        "    history['train_loss'].append(train_loss)\n",
        "    history['val_acc'].append(val_acc)\n",
        "    history['val_loss'].append(val_loss)\n",
        "\n",
        "\n",
        "    if val_acc>best_accuracy:\n",
        "        torch.save(model.state_dict(), file_path)\n",
        "        best_accuracy = val_acc\n",
        "        print(f'Model Weights and Parameters has been saved')\n",
        "\n",
        "    print(' ')\n",
        "\n"
      ]
    },
    {
      "cell_type": "code",
      "execution_count": null,
      "metadata": {
        "colab": {
          "base_uri": "https://localhost:8080/"
        },
        "id": "iK7Ia8ykPE4P",
        "outputId": "8953e159-7a57-463f-e1c7-28359deaac4c"
      },
      "outputs": [
        {
          "name": "stdout",
          "output_type": "stream",
          "text": [
            " \n",
            "Finally Model Parameters saved with Accuracy: 58.02%\n"
          ]
        }
      ],
      "source": [
        "try:\n",
        "    print(' ')\n",
        "    accuracy_percentage = best_accuracy * 100\n",
        "    print(\"Finally Model Parameters saved with Accuracy: {:.2f}%\".format(accuracy_percentage))\n",
        "except Exception as e:\n",
        "    print(\"An error occurred:\", e)"
      ]
    },
    {
      "cell_type": "code",
      "execution_count": null,
      "metadata": {
        "colab": {
          "base_uri": "https://localhost:8080/",
          "height": 482
        },
        "id": "nn1b46VgOy5K",
        "outputId": "66949afb-461b-4951-b2a1-647f7a7a09ce"
      },
      "outputs": [],
      "source": [
        "train_loss = torch.tensor(history['train_loss'])\n",
        "val_loss = torch.tensor(history['val_loss'])\n",
        "train_acc = torch.tensor(history['train_acc'])\n",
        "val_acc = torch.tensor(history['val_acc'])\n",
        "\n",
        "\n",
        "# Plotting losses\n",
        "plt.figure(figsize=(10, 5))\n",
        "plt.subplot(1, 2, 1)\n",
        "plt.plot(range(1, len(train_loss) + 1), train_loss, label='Train Loss')\n",
        "plt.plot(range(1, len(val_loss) + 1), val_loss, label='Validation Loss')\n",
        "plt.title('Training and Validation Loss')\n",
        "plt.xlabel('Epochs')\n",
        "plt.ylabel('Loss')\n",
        "plt.legend()\n",
        "\n",
        "# Plotting accuracies\n",
        "plt.subplot(1, 2, 2)\n",
        "plt.plot(range(1, len(train_acc) + 1), train_acc, label='Train Accuracy')\n",
        "plt.plot(range(1, len(val_acc) + 1), val_acc, label='Validation Accuracy')\n",
        "plt.title('Training and Validation Accuracy')\n",
        "plt.xlabel('Epochs')\n",
        "plt.ylabel('Accuracy')\n",
        "plt.legend()\n",
        "\n",
        "plt.tight_layout()\n",
        "plt.show()"
      ]
    },
    {
      "cell_type": "code",
      "execution_count": null,
      "metadata": {
        "colab": {
          "base_uri": "https://localhost:8080/"
        },
        "id": "4eOV6cOn7ZC_",
        "outputId": "f854f513-5bac-440a-b70b-ade94b639a78"
      },
      "outputs": [
        {
          "name": "stdout",
          "output_type": "stream",
          "text": [
            "GPU memory information:\n",
            "GPU 0 (Tesla T4): 15102.06 MB total memory\n",
            "GPU with the highest memory usage:\n",
            "GPU 0 (Tesla T4): 1277.67 MB\n"
          ]
        }
      ],
      "source": [
        "check_gpu_info()"
      ]
    },
    {
      "cell_type": "markdown",
      "metadata": {
        "id": "PC_3CiDvZprI"
      },
      "source": [
        "## Model Evaluation on test_data_loader"
      ]
    },
    {
      "cell_type": "code",
      "execution_count": null,
      "metadata": {
        "id": "bnVSWMJDxcmN"
      },
      "outputs": [],
      "source": [
        "# get_predictions() is a helper function that take final model and test data as input\n",
        "# It returns predicted rating, predicted probability for each rating and actual class(label).\n",
        "\n",
        "def get_prediction(model, data_loader, print_every=40):\n",
        "    model = model.eval()\n",
        "\n",
        "    predictions = []\n",
        "    prediction_probabilities = []\n",
        "    real_values = []\n",
        "\n",
        "    print('get prediction function is Called')\n",
        "\n",
        "    with torch.no_grad():\n",
        "        for batch_idx, d in enumerate(data_loader):\n",
        "\n",
        "            input_ids = d['input_ids'].to(device)\n",
        "            attention_mask = d['attention_mask'].to(device)\n",
        "            targets = d['targets'].to(device)\n",
        "\n",
        "            outputs = model(input_ids = input_ids, attention_mask = attention_mask)\n",
        "            _, preds = torch.max(outputs, dim=1)\n",
        "            probs = F.softmax(outputs, dim =1)\n",
        "\n",
        "            predictions.extend(preds)\n",
        "            prediction_probabilities.extend(probs)\n",
        "            real_values.extend(targets)\n",
        "\n",
        "            input_ids = input_ids.detach()\n",
        "            attention_mask = attention_mask.detach()\n",
        "            targets = targets.detach()\n",
        "\n",
        "            if (batch_idx + 1) % print_every == 0:\n",
        "                print(f'Processed {batch_idx + 1} batches.')\n",
        "\n",
        "    # 'torch.stack' function call stacks tensors along a new dimension (default behavior is dim=0)\n",
        "    predictions = torch.stack(predictions).cpu()\n",
        "    prediction_probabilities = torch.stack(prediction_probabilities).cpu()\n",
        "    real_values = torch.stack(real_values).cpu()\n",
        "\n",
        "    return predictions, prediction_probabilities, real_values\n"
      ]
    },
    {
      "cell_type": "code",
      "execution_count": null,
      "metadata": {
        "colab": {
          "base_uri": "https://localhost:8080/"
        },
        "id": "94bcwKk45PWw",
        "outputId": "5548cf33-4147-45f8-9851-0d1317c2b439"
      },
      "outputs": [
        {
          "name": "stdout",
          "output_type": "stream",
          "text": [
            "get prediction function is Called\n",
            "Processed 40 batches.\n",
            "Processed 80 batches.\n",
            "Processed 120 batches.\n",
            "Processed 160 batches.\n",
            "Processed 200 batches.\n",
            "              precision    recall  f1-score   support\n",
            "\n",
            "      1-Star       0.73      0.72      0.72       653\n",
            "      2-Star       0.41      0.42      0.41       437\n",
            "      3-Star       0.57      0.55      0.56       737\n",
            "      4-Star       0.49      0.48      0.49       741\n",
            "      5-Star       0.69      0.72      0.70       834\n",
            "\n",
            "    accuracy                           0.59      3402\n",
            "   macro avg       0.58      0.58      0.58      3402\n",
            "weighted avg       0.59      0.59      0.59      3402\n",
            "\n"
          ]
        }
      ],
      "source": [
        "y_pred, y_pred_probs, y_test = get_prediction(model, test_data_Loader)\n",
        "\n",
        "print(classification_report(y_test, y_pred, target_names=class_names))"
      ]
    },
    {
      "cell_type": "code",
      "execution_count": null,
      "metadata": {
        "colab": {
          "base_uri": "https://localhost:8080/",
          "height": 755
        },
        "id": "Cru0IDbB6S66",
        "outputId": "8cbcc417-8dcd-4197-c331-c7b87fc5b21f"
      },
      "outputs": [
        {
          "data": {
            "image/png": "[encoded data removed]",
            "text/plain": [
              "<Figure size 1200x800 with 2 Axes>"
            ]
          },
          "metadata": {
            "image/png": {
              "height": 738,
              "width": 1010
            }
          },
          "output_type": "display_data"
        }
      ],
      "source": [
        "# Printing the confusion matrix\n",
        "def show_confusion_matrix(confusion_matrix):\n",
        "    hmap = sns.heatmap(confusion_matrix, annot=True, fmt=\"d\", cmap=\"Blues\")\n",
        "    hmap.yaxis.set_ticklabels(hmap.yaxis.get_ticklabels(), rotation = 0, ha='right')\n",
        "    hmap.xaxis.set_ticklabels(hmap.xaxis.get_ticklabels(), rotation = 30, ha='right')\n",
        "    plt.ylabel('True Rating')\n",
        "    plt.xlabel('Predicted Rating')\n",
        "\n",
        "cm = confusion_matrix(y_test, y_pred)\n",
        "df_cm = pd.DataFrame(cm, index=class_names, columns = class_names)\n",
        "show_confusion_matrix(df_cm)\n"
      ]
    },
    {
      "cell_type": "markdown",
      "metadata": {
        "id": "JCd2Kr4l7zG9"
      },
      "source": [
        "## Testing the Model on Unseen Data"
      ]
    },
    {
      "cell_type": "code",
      "execution_count": null,
      "metadata": {
        "colab": {
          "base_uri": "https://localhost:8080/"
        },
        "id": "hn_ib4Xr8Api",
        "outputId": "ad839f83-7cd0-4381-faec-4ccf0c6d7281"
      },
      "outputs": [
        {
          "name": "stdout",
          "output_type": "stream",
          "text": [
            "Review text : This movie is a whimsical escape into nostalgia, where Woody Allens romantic portrayal of Paris shines, yet its narrative depth struggles to match the enchanting backdrop.\n",
            "Rating : 3-Star\n"
          ]
        }
      ],
      "source": [
        "# Predicting Rating on Raw text data\n",
        "\n",
        "def get_rating(sample_review):\n",
        "\n",
        "    encoded_review = tokenizer.encode_plus(\n",
        "        sample_review,\n",
        "        max_length=MAX_LEN,\n",
        "        truncation=True,\n",
        "        padding=True,\n",
        "        add_special_tokens=True,\n",
        "        return_token_type_ids=False,\n",
        "        return_attention_mask=True,\n",
        "        return_tensors='pt'\n",
        "    )\n",
        "\n",
        "    input_ids = encoded_review['input_ids'].to(device)\n",
        "    attention_mask = encoded_review['attention_mask'].to(device)\n",
        "\n",
        "    output = model(input_ids,attention_mask)\n",
        "    _,prediction = torch.max(output,dim=1)\n",
        "\n",
        "    print(f'Review text : {sample_review}')\n",
        "    print(f'Rating : {class_names[prediction]}')\n",
        "\n",
        "sample_text = 'This movie is a whimsical escape into nostalgia, where Woody Allens romantic portrayal of Paris shines, yet its narrative depth struggles to match the enchanting backdrop.'\n",
        "\n",
        "get_rating(sample_text)"
      ]
    }
  ],
  "metadata": {
    "accelerator": "GPU",
    "colab": {
      "gpuType": "T4",
      "provenance": []
    },
    "kernelspec": {
      "display_name": "Python 3",
      "name": "python3"
    },
    "language_info": {
      "name": "python"
    },
    "widgets": {
      "application/vnd.jupyter.widget-state+json": {
        "04d4c60fec2f4fe38aec3ccc765d7894": {
          "model_module": "@jupyter-widgets/controls",
          "model_module_version": "1.5.0",
          "model_name": "DescriptionStyleModel",
          "state": {
            "_model_module": "@jupyter-widgets/controls",
            "_model_module_version": "1.5.0",
            "_model_name": "DescriptionStyleModel",
            "_view_count": null,
            "_view_module": "@jupyter-widgets/base",
            "_view_module_version": "1.2.0",
            "_view_name": "StyleView",
            "description_width": ""
          }
        },
        "04ff9ada48a0498bbdaa865f0610104b": {
          "model_module": "@jupyter-widgets/base",
          "model_module_version": "1.2.0",
          "model_name": "LayoutModel",
          "state": {
            "_model_module": "@jupyter-widgets/base",
            "_model_module_version": "1.2.0",
            "_model_name": "LayoutModel",
            "_view_count": null,
            "_view_module": "@jupyter-widgets/base",
            "_view_module_version": "1.2.0",
            "_view_name": "LayoutView",
            "align_content": null,
            "align_items": null,
            "align_self": null,
            "border": null,
            "bottom": null,
            "display": null,
            "flex": null,
            "flex_flow": null,
            "grid_area": null,
            "grid_auto_columns": null,
            "grid_auto_flow": null,
            "grid_auto_rows": null,
            "grid_column": null,
            "grid_gap": null,
            "grid_row": null,
            "grid_template_areas": null,
            "grid_template_columns": null,
            "grid_template_rows": null,
            "height": null,
            "justify_content": null,
            "justify_items": null,
            "left": null,
            "margin": null,
            "max_height": null,
            "max_width": null,
            "min_height": null,
            "min_width": null,
            "object_fit": null,
            "object_position": null,
            "order": null,
            "overflow": null,
            "overflow_x": null,
            "overflow_y": null,
            "padding": null,
            "right": null,
            "top": null,
            "visibility": null,
            "width": null
          }
        },
        "07626cf795734fd5a7ca1b9d367d0817": {
          "model_module": "@jupyter-widgets/base",
          "model_module_version": "1.2.0",
          "model_name": "LayoutModel",
          "state": {
            "_model_module": "@jupyter-widgets/base",
            "_model_module_version": "1.2.0",
            "_model_name": "LayoutModel",
            "_view_count": null,
            "_view_module": "@jupyter-widgets/base",
            "_view_module_version": "1.2.0",
            "_view_name": "LayoutView",
            "align_content": null,
            "align_items": null,
            "align_self": null,
            "border": null,
            "bottom": null,
            "display": null,
            "flex": null,
            "flex_flow": null,
            "grid_area": null,
            "grid_auto_columns": null,
            "grid_auto_flow": null,
            "grid_auto_rows": null,
            "grid_column": null,
            "grid_gap": null,
            "grid_row": null,
            "grid_template_areas": null,
            "grid_template_columns": null,
            "grid_template_rows": null,
            "height": null,
            "justify_content": null,
            "justify_items": null,
            "left": null,
            "margin": null,
            "max_height": null,
            "max_width": null,
            "min_height": null,
            "min_width": null,
            "object_fit": null,
            "object_position": null,
            "order": null,
            "overflow": null,
            "overflow_x": null,
            "overflow_y": null,
            "padding": null,
            "right": null,
            "top": null,
            "visibility": null,
            "width": null
          }
        },
        "07e3bf57f93c40b0864f9d93a44d929d": {
          "model_module": "@jupyter-widgets/base",
          "model_module_version": "1.2.0",
          "model_name": "LayoutModel",
          "state": {
            "_model_module": "@jupyter-widgets/base",
            "_model_module_version": "1.2.0",
            "_model_name": "LayoutModel",
            "_view_count": null,
            "_view_module": "@jupyter-widgets/base",
            "_view_module_version": "1.2.0",
            "_view_name": "LayoutView",
            "align_content": null,
            "align_items": null,
            "align_self": null,
            "border": null,
            "bottom": null,
            "display": null,
            "flex": null,
            "flex_flow": null,
            "grid_area": null,
            "grid_auto_columns": null,
            "grid_auto_flow": null,
            "grid_auto_rows": null,
            "grid_column": null,
            "grid_gap": null,
            "grid_row": null,
            "grid_template_areas": null,
            "grid_template_columns": null,
            "grid_template_rows": null,
            "height": null,
            "justify_content": null,
            "justify_items": null,
            "left": null,
            "margin": null,
            "max_height": null,
            "max_width": null,
            "min_height": null,
            "min_width": null,
            "object_fit": null,
            "object_position": null,
            "order": null,
            "overflow": null,
            "overflow_x": null,
            "overflow_y": null,
            "padding": null,
            "right": null,
            "top": null,
            "visibility": null,
            "width": null
          }
        },
        "07eb6c86260d4e16899f7b69c0b12ce2": {
          "model_module": "@jupyter-widgets/base",
          "model_module_version": "1.2.0",
          "model_name": "LayoutModel",
          "state": {
            "_model_module": "@jupyter-widgets/base",
            "_model_module_version": "1.2.0",
            "_model_name": "LayoutModel",
            "_view_count": null,
            "_view_module": "@jupyter-widgets/base",
            "_view_module_version": "1.2.0",
            "_view_name": "LayoutView",
            "align_content": null,
            "align_items": null,
            "align_self": null,
            "border": null,
            "bottom": null,
            "display": null,
            "flex": null,
            "flex_flow": null,
            "grid_area": null,
            "grid_auto_columns": null,
            "grid_auto_flow": null,
            "grid_auto_rows": null,
            "grid_column": null,
            "grid_gap": null,
            "grid_row": null,
            "grid_template_areas": null,
            "grid_template_columns": null,
            "grid_template_rows": null,
            "height": null,
            "justify_content": null,
            "justify_items": null,
            "left": null,
            "margin": null,
            "max_height": null,
            "max_width": null,
            "min_height": null,
            "min_width": null,
            "object_fit": null,
            "object_position": null,
            "order": null,
            "overflow": null,
            "overflow_x": null,
            "overflow_y": null,
            "padding": null,
            "right": null,
            "top": null,
            "visibility": null,
            "width": null
          }
        },
        "0f322801fc7d45c082a6a6d1a3f75de4": {
          "model_module": "@jupyter-widgets/base",
          "model_module_version": "1.2.0",
          "model_name": "LayoutModel",
          "state": {
            "_model_module": "@jupyter-widgets/base",
            "_model_module_version": "1.2.0",
            "_model_name": "LayoutModel",
            "_view_count": null,
            "_view_module": "@jupyter-widgets/base",
            "_view_module_version": "1.2.0",
            "_view_name": "LayoutView",
            "align_content": null,
            "align_items": null,
            "align_self": null,
            "border": null,
            "bottom": null,
            "display": null,
            "flex": null,
            "flex_flow": null,
            "grid_area": null,
            "grid_auto_columns": null,
            "grid_auto_flow": null,
            "grid_auto_rows": null,
            "grid_column": null,
            "grid_gap": null,
            "grid_row": null,
            "grid_template_areas": null,
            "grid_template_columns": null,
            "grid_template_rows": null,
            "height": null,
            "justify_content": null,
            "justify_items": null,
            "left": null,
            "margin": null,
            "max_height": null,
            "max_width": null,
            "min_height": null,
            "min_width": null,
            "object_fit": null,
            "object_position": null,
            "order": null,
            "overflow": null,
            "overflow_x": null,
            "overflow_y": null,
            "padding": null,
            "right": null,
            "top": null,
            "visibility": null,
            "width": null
          }
        },
        "1504839cdea24103b8d5db0ad26c7774": {
          "model_module": "@jupyter-widgets/controls",
          "model_module_version": "1.5.0",
          "model_name": "DescriptionStyleModel",
          "state": {
            "_model_module": "@jupyter-widgets/controls",
            "_model_module_version": "1.5.0",
            "_model_name": "DescriptionStyleModel",
            "_view_count": null,
            "_view_module": "@jupyter-widgets/base",
            "_view_module_version": "1.2.0",
            "_view_name": "StyleView",
            "description_width": ""
          }
        },
        "15c105bf58b04058b7f517e66f1982f9": {
          "model_module": "@jupyter-widgets/controls",
          "model_module_version": "1.5.0",
          "model_name": "DescriptionStyleModel",
          "state": {
            "_model_module": "@jupyter-widgets/controls",
            "_model_module_version": "1.5.0",
            "_model_name": "DescriptionStyleModel",
            "_view_count": null,
            "_view_module": "@jupyter-widgets/base",
            "_view_module_version": "1.2.0",
            "_view_name": "StyleView",
            "description_width": ""
          }
        },
        "19413229c9f446399d7bb590b64e1758": {
          "model_module": "@jupyter-widgets/controls",
          "model_module_version": "1.5.0",
          "model_name": "DescriptionStyleModel",
          "state": {
            "_model_module": "@jupyter-widgets/controls",
            "_model_module_version": "1.5.0",
            "_model_name": "DescriptionStyleModel",
            "_view_count": null,
            "_view_module": "@jupyter-widgets/base",
            "_view_module_version": "1.2.0",
            "_view_name": "StyleView",
            "description_width": ""
          }
        },
        "1a6dd608f6444efea9d82607cf6a3442": {
          "model_module": "@jupyter-widgets/controls",
          "model_module_version": "1.5.0",
          "model_name": "FloatProgressModel",
          "state": {
            "_dom_classes": [],
            "_model_module": "@jupyter-widgets/controls",
            "_model_module_version": "1.5.0",
            "_model_name": "FloatProgressModel",
            "_view_count": null,
            "_view_module": "@jupyter-widgets/controls",
            "_view_module_version": "1.5.0",
            "_view_name": "ProgressView",
            "bar_style": "success",
            "description": "",
            "description_tooltip": null,
            "layout": "IPY_MODEL_2d5598dcd9434932949717c0dd0323d0",
            "max": 231508,
            "min": 0,
            "orientation": "horizontal",
            "style": "IPY_MODEL_723b10bef8dd4822839ec5f34f552ff5",
            "value": 231508
          }
        },
        "1b54a7c0d6ca4220b9609a695d50095e": {
          "model_module": "@jupyter-widgets/controls",
          "model_module_version": "1.5.0",
          "model_name": "DescriptionStyleModel",
          "state": {
            "_model_module": "@jupyter-widgets/controls",
            "_model_module_version": "1.5.0",
            "_model_name": "DescriptionStyleModel",
            "_view_count": null,
            "_view_module": "@jupyter-widgets/base",
            "_view_module_version": "1.2.0",
            "_view_name": "StyleView",
            "description_width": ""
          }
        },
        "1c853ba91fa3427abb3b6951e1faa79c": {
          "model_module": "@jupyter-widgets/controls",
          "model_module_version": "1.5.0",
          "model_name": "FloatProgressModel",
          "state": {
            "_dom_classes": [],
            "_model_module": "@jupyter-widgets/controls",
            "_model_module_version": "1.5.0",
            "_model_name": "FloatProgressModel",
            "_view_count": null,
            "_view_module": "@jupyter-widgets/controls",
            "_view_module_version": "1.5.0",
            "_view_name": "ProgressView",
            "bar_style": "success",
            "description": "",
            "description_tooltip": null,
            "layout": "IPY_MODEL_29dba80a6937473d8252794493be7495",
            "max": 570,
            "min": 0,
            "orientation": "horizontal",
            "style": "IPY_MODEL_43491ddf726648abbc31fe53849d18f8",
            "value": 570
          }
        },
        "27ff7120a65f480295fd1d6cc1a884ac": {
          "model_module": "@jupyter-widgets/controls",
          "model_module_version": "1.5.0",
          "model_name": "ProgressStyleModel",
          "state": {
            "_model_module": "@jupyter-widgets/controls",
            "_model_module_version": "1.5.0",
            "_model_name": "ProgressStyleModel",
            "_view_count": null,
            "_view_module": "@jupyter-widgets/base",
            "_view_module_version": "1.2.0",
            "_view_name": "StyleView",
            "bar_color": null,
            "description_width": ""
          }
        },
        "29dba80a6937473d8252794493be7495": {
          "model_module": "@jupyter-widgets/base",
          "model_module_version": "1.2.0",
          "model_name": "LayoutModel",
          "state": {
            "_model_module": "@jupyter-widgets/base",
            "_model_module_version": "1.2.0",
            "_model_name": "LayoutModel",
            "_view_count": null,
            "_view_module": "@jupyter-widgets/base",
            "_view_module_version": "1.2.0",
            "_view_name": "LayoutView",
            "align_content": null,
            "align_items": null,
            "align_self": null,
            "border": null,
            "bottom": null,
            "display": null,
            "flex": null,
            "flex_flow": null,
            "grid_area": null,
            "grid_auto_columns": null,
            "grid_auto_flow": null,
            "grid_auto_rows": null,
            "grid_column": null,
            "grid_gap": null,
            "grid_row": null,
            "grid_template_areas": null,
            "grid_template_columns": null,
            "grid_template_rows": null,
            "height": null,
            "justify_content": null,
            "justify_items": null,
            "left": null,
            "margin": null,
            "max_height": null,
            "max_width": null,
            "min_height": null,
            "min_width": null,
            "object_fit": null,
            "object_position": null,
            "order": null,
            "overflow": null,
            "overflow_x": null,
            "overflow_y": null,
            "padding": null,
            "right": null,
            "top": null,
            "visibility": null,
            "width": null
          }
        },
        "2a4d946abb7743e68a04a02eba6b7d5e": {
          "model_module": "@jupyter-widgets/controls",
          "model_module_version": "1.5.0",
          "model_name": "HBoxModel",
          "state": {
            "_dom_classes": [],
            "_model_module": "@jupyter-widgets/controls",
            "_model_module_version": "1.5.0",
            "_model_name": "HBoxModel",
            "_view_count": null,
            "_view_module": "@jupyter-widgets/controls",
            "_view_module_version": "1.5.0",
            "_view_name": "HBoxView",
            "box_style": "",
            "children": [
              "IPY_MODEL_4f82b5add6c74e53b3b07b717b4a3d16",
              "IPY_MODEL_1a6dd608f6444efea9d82607cf6a3442",
              "IPY_MODEL_45dfe56befad4691b850352ec40e8707"
            ],
            "layout": "IPY_MODEL_0f322801fc7d45c082a6a6d1a3f75de4"
          }
        },
        "2d5598dcd9434932949717c0dd0323d0": {
          "model_module": "@jupyter-widgets/base",
          "model_module_version": "1.2.0",
          "model_name": "LayoutModel",
          "state": {
            "_model_module": "@jupyter-widgets/base",
            "_model_module_version": "1.2.0",
            "_model_name": "LayoutModel",
            "_view_count": null,
            "_view_module": "@jupyter-widgets/base",
            "_view_module_version": "1.2.0",
            "_view_name": "LayoutView",
            "align_content": null,
            "align_items": null,
            "align_self": null,
            "border": null,
            "bottom": null,
            "display": null,
            "flex": null,
            "flex_flow": null,
            "grid_area": null,
            "grid_auto_columns": null,
            "grid_auto_flow": null,
            "grid_auto_rows": null,
            "grid_column": null,
            "grid_gap": null,
            "grid_row": null,
            "grid_template_areas": null,
            "grid_template_columns": null,
            "grid_template_rows": null,
            "height": null,
            "justify_content": null,
            "justify_items": null,
            "left": null,
            "margin": null,
            "max_height": null,
            "max_width": null,
            "min_height": null,
            "min_width": null,
            "object_fit": null,
            "object_position": null,
            "order": null,
            "overflow": null,
            "overflow_x": null,
            "overflow_y": null,
            "padding": null,
            "right": null,
            "top": null,
            "visibility": null,
            "width": null
          }
        },
        "3313ca8b2d1e469b8e9c9abe90951f33": {
          "model_module": "@jupyter-widgets/controls",
          "model_module_version": "1.5.0",
          "model_name": "FloatProgressModel",
          "state": {
            "_dom_classes": [],
            "_model_module": "@jupyter-widgets/controls",
            "_model_module_version": "1.5.0",
            "_model_name": "FloatProgressModel",
            "_view_count": null,
            "_view_module": "@jupyter-widgets/controls",
            "_view_module_version": "1.5.0",
            "_view_name": "ProgressView",
            "bar_style": "success",
            "description": "",
            "description_tooltip": null,
            "layout": "IPY_MODEL_07626cf795734fd5a7ca1b9d367d0817",
            "max": 466062,
            "min": 0,
            "orientation": "horizontal",
            "style": "IPY_MODEL_e7b9dca6d8c847698ca85bcb5c580d7b",
            "value": 466062
          }
        },
        "341f84fefcc04909830d2f6946d4c916": {
          "model_module": "@jupyter-widgets/controls",
          "model_module_version": "1.5.0",
          "model_name": "DescriptionStyleModel",
          "state": {
            "_model_module": "@jupyter-widgets/controls",
            "_model_module_version": "1.5.0",
            "_model_name": "DescriptionStyleModel",
            "_view_count": null,
            "_view_module": "@jupyter-widgets/base",
            "_view_module_version": "1.2.0",
            "_view_name": "StyleView",
            "description_width": ""
          }
        },
        "43491ddf726648abbc31fe53849d18f8": {
          "model_module": "@jupyter-widgets/controls",
          "model_module_version": "1.5.0",
          "model_name": "ProgressStyleModel",
          "state": {
            "_model_module": "@jupyter-widgets/controls",
            "_model_module_version": "1.5.0",
            "_model_name": "ProgressStyleModel",
            "_view_count": null,
            "_view_module": "@jupyter-widgets/base",
            "_view_module_version": "1.2.0",
            "_view_name": "StyleView",
            "bar_color": null,
            "description_width": ""
          }
        },
        "454665eedf874a199fb871197cc2acc3": {
          "model_module": "@jupyter-widgets/controls",
          "model_module_version": "1.5.0",
          "model_name": "HTMLModel",
          "state": {
            "_dom_classes": [],
            "_model_module": "@jupyter-widgets/controls",
            "_model_module_version": "1.5.0",
            "_model_name": "HTMLModel",
            "_view_count": null,
            "_view_module": "@jupyter-widgets/controls",
            "_view_module_version": "1.5.0",
            "_view_name": "HTMLView",
            "description": "",
            "description_tooltip": null,
            "layout": "IPY_MODEL_07e3bf57f93c40b0864f9d93a44d929d",
            "placeholder": "​",
            "style": "IPY_MODEL_04d4c60fec2f4fe38aec3ccc765d7894",
            "value": "tokenizer.json: 100%"
          }
        },
        "45dfe56befad4691b850352ec40e8707": {
          "model_module": "@jupyter-widgets/controls",
          "model_module_version": "1.5.0",
          "model_name": "HTMLModel",
          "state": {
            "_dom_classes": [],
            "_model_module": "@jupyter-widgets/controls",
            "_model_module_version": "1.5.0",
            "_model_name": "HTMLModel",
            "_view_count": null,
            "_view_module": "@jupyter-widgets/controls",
            "_view_module_version": "1.5.0",
            "_view_name": "HTMLView",
            "description": "",
            "description_tooltip": null,
            "layout": "IPY_MODEL_76f49afecd3b4b9b971d4bf2072d8a1b",
            "placeholder": "​",
            "style": "IPY_MODEL_19413229c9f446399d7bb590b64e1758",
            "value": " 232k/232k [00:00&lt;00:00, 942kB/s]"
          }
        },
        "4a00e5188c024876bb5064e3e889aef8": {
          "model_module": "@jupyter-widgets/base",
          "model_module_version": "1.2.0",
          "model_name": "LayoutModel",
          "state": {
            "_model_module": "@jupyter-widgets/base",
            "_model_module_version": "1.2.0",
            "_model_name": "LayoutModel",
            "_view_count": null,
            "_view_module": "@jupyter-widgets/base",
            "_view_module_version": "1.2.0",
            "_view_name": "LayoutView",
            "align_content": null,
            "align_items": null,
            "align_self": null,
            "border": null,
            "bottom": null,
            "display": null,
            "flex": null,
            "flex_flow": null,
            "grid_area": null,
            "grid_auto_columns": null,
            "grid_auto_flow": null,
            "grid_auto_rows": null,
            "grid_column": null,
            "grid_gap": null,
            "grid_row": null,
            "grid_template_areas": null,
            "grid_template_columns": null,
            "grid_template_rows": null,
            "height": null,
            "justify_content": null,
            "justify_items": null,
            "left": null,
            "margin": null,
            "max_height": null,
            "max_width": null,
            "min_height": null,
            "min_width": null,
            "object_fit": null,
            "object_position": null,
            "order": null,
            "overflow": null,
            "overflow_x": null,
            "overflow_y": null,
            "padding": null,
            "right": null,
            "top": null,
            "visibility": null,
            "width": null
          }
        },
        "4a45dac5c57441239790a74224b2bad9": {
          "model_module": "@jupyter-widgets/base",
          "model_module_version": "1.2.0",
          "model_name": "LayoutModel",
          "state": {
            "_model_module": "@jupyter-widgets/base",
            "_model_module_version": "1.2.0",
            "_model_name": "LayoutModel",
            "_view_count": null,
            "_view_module": "@jupyter-widgets/base",
            "_view_module_version": "1.2.0",
            "_view_name": "LayoutView",
            "align_content": null,
            "align_items": null,
            "align_self": null,
            "border": null,
            "bottom": null,
            "display": null,
            "flex": null,
            "flex_flow": null,
            "grid_area": null,
            "grid_auto_columns": null,
            "grid_auto_flow": null,
            "grid_auto_rows": null,
            "grid_column": null,
            "grid_gap": null,
            "grid_row": null,
            "grid_template_areas": null,
            "grid_template_columns": null,
            "grid_template_rows": null,
            "height": null,
            "justify_content": null,
            "justify_items": null,
            "left": null,
            "margin": null,
            "max_height": null,
            "max_width": null,
            "min_height": null,
            "min_width": null,
            "object_fit": null,
            "object_position": null,
            "order": null,
            "overflow": null,
            "overflow_x": null,
            "overflow_y": null,
            "padding": null,
            "right": null,
            "top": null,
            "visibility": null,
            "width": null
          }
        },
        "4f82b5add6c74e53b3b07b717b4a3d16": {
          "model_module": "@jupyter-widgets/controls",
          "model_module_version": "1.5.0",
          "model_name": "HTMLModel",
          "state": {
            "_dom_classes": [],
            "_model_module": "@jupyter-widgets/controls",
            "_model_module_version": "1.5.0",
            "_model_name": "HTMLModel",
            "_view_count": null,
            "_view_module": "@jupyter-widgets/controls",
            "_view_module_version": "1.5.0",
            "_view_name": "HTMLView",
            "description": "",
            "description_tooltip": null,
            "layout": "IPY_MODEL_dc52349e935549a2a3b1fb9cb5c4f9bd",
            "placeholder": "​",
            "style": "IPY_MODEL_1504839cdea24103b8d5db0ad26c7774",
            "value": "vocab.txt: 100%"
          }
        },
        "50afd467d0e04907864434954433d0b4": {
          "model_module": "@jupyter-widgets/controls",
          "model_module_version": "1.5.0",
          "model_name": "HTMLModel",
          "state": {
            "_dom_classes": [],
            "_model_module": "@jupyter-widgets/controls",
            "_model_module_version": "1.5.0",
            "_model_name": "HTMLModel",
            "_view_count": null,
            "_view_module": "@jupyter-widgets/controls",
            "_view_module_version": "1.5.0",
            "_view_name": "HTMLView",
            "description": "",
            "description_tooltip": null,
            "layout": "IPY_MODEL_f58be77c43c744baa557a1adeddda71f",
            "placeholder": "​",
            "style": "IPY_MODEL_15c105bf58b04058b7f517e66f1982f9",
            "value": " 48.0/48.0 [00:00&lt;00:00, 2.30kB/s]"
          }
        },
        "541f0f2bfa7b4952841ab685d01c1d23": {
          "model_module": "@jupyter-widgets/base",
          "model_module_version": "1.2.0",
          "model_name": "LayoutModel",
          "state": {
            "_model_module": "@jupyter-widgets/base",
            "_model_module_version": "1.2.0",
            "_model_name": "LayoutModel",
            "_view_count": null,
            "_view_module": "@jupyter-widgets/base",
            "_view_module_version": "1.2.0",
            "_view_name": "LayoutView",
            "align_content": null,
            "align_items": null,
            "align_self": null,
            "border": null,
            "bottom": null,
            "display": null,
            "flex": null,
            "flex_flow": null,
            "grid_area": null,
            "grid_auto_columns": null,
            "grid_auto_flow": null,
            "grid_auto_rows": null,
            "grid_column": null,
            "grid_gap": null,
            "grid_row": null,
            "grid_template_areas": null,
            "grid_template_columns": null,
            "grid_template_rows": null,
            "height": null,
            "justify_content": null,
            "justify_items": null,
            "left": null,
            "margin": null,
            "max_height": null,
            "max_width": null,
            "min_height": null,
            "min_width": null,
            "object_fit": null,
            "object_position": null,
            "order": null,
            "overflow": null,
            "overflow_x": null,
            "overflow_y": null,
            "padding": null,
            "right": null,
            "top": null,
            "visibility": null,
            "width": null
          }
        },
        "54975804d9df4dffaedef432bc4c5690": {
          "model_module": "@jupyter-widgets/controls",
          "model_module_version": "1.5.0",
          "model_name": "FloatProgressModel",
          "state": {
            "_dom_classes": [],
            "_model_module": "@jupyter-widgets/controls",
            "_model_module_version": "1.5.0",
            "_model_name": "FloatProgressModel",
            "_view_count": null,
            "_view_module": "@jupyter-widgets/controls",
            "_view_module_version": "1.5.0",
            "_view_name": "ProgressView",
            "bar_style": "success",
            "description": "",
            "description_tooltip": null,
            "layout": "IPY_MODEL_db517fe6b86943c699ba04a707318884",
            "max": 440449768,
            "min": 0,
            "orientation": "horizontal",
            "style": "IPY_MODEL_eb83cfb651f248e5946e52c17991caf2",
            "value": 440449768
          }
        },
        "5c2a72c23fe14c63845ecc85609024fc": {
          "model_module": "@jupyter-widgets/controls",
          "model_module_version": "1.5.0",
          "model_name": "HBoxModel",
          "state": {
            "_dom_classes": [],
            "_model_module": "@jupyter-widgets/controls",
            "_model_module_version": "1.5.0",
            "_model_name": "HBoxModel",
            "_view_count": null,
            "_view_module": "@jupyter-widgets/controls",
            "_view_module_version": "1.5.0",
            "_view_name": "HBoxView",
            "box_style": "",
            "children": [
              "IPY_MODEL_ed5cecd4bdee45b8b7433022ebe4550d",
              "IPY_MODEL_1c853ba91fa3427abb3b6951e1faa79c",
              "IPY_MODEL_61dfd840e0a344dfaee794601b44bd9f"
            ],
            "layout": "IPY_MODEL_76752b440e1e45669c1a8e1e81f322b9"
          }
        },
        "61dfd840e0a344dfaee794601b44bd9f": {
          "model_module": "@jupyter-widgets/controls",
          "model_module_version": "1.5.0",
          "model_name": "HTMLModel",
          "state": {
            "_dom_classes": [],
            "_model_module": "@jupyter-widgets/controls",
            "_model_module_version": "1.5.0",
            "_model_name": "HTMLModel",
            "_view_count": null,
            "_view_module": "@jupyter-widgets/controls",
            "_view_module_version": "1.5.0",
            "_view_name": "HTMLView",
            "description": "",
            "description_tooltip": null,
            "layout": "IPY_MODEL_07eb6c86260d4e16899f7b69c0b12ce2",
            "placeholder": "​",
            "style": "IPY_MODEL_b97864e0a45b41d58ea51f621b424219",
            "value": " 570/570 [00:00&lt;00:00, 38.6kB/s]"
          }
        },
        "640caf7dba79444cb02ef10b304a99ab": {
          "model_module": "@jupyter-widgets/controls",
          "model_module_version": "1.5.0",
          "model_name": "HTMLModel",
          "state": {
            "_dom_classes": [],
            "_model_module": "@jupyter-widgets/controls",
            "_model_module_version": "1.5.0",
            "_model_name": "HTMLModel",
            "_view_count": null,
            "_view_module": "@jupyter-widgets/controls",
            "_view_module_version": "1.5.0",
            "_view_name": "HTMLView",
            "description": "",
            "description_tooltip": null,
            "layout": "IPY_MODEL_4a45dac5c57441239790a74224b2bad9",
            "placeholder": "​",
            "style": "IPY_MODEL_1b54a7c0d6ca4220b9609a695d50095e",
            "value": "tokenizer_config.json: 100%"
          }
        },
        "692db5c204074753849406d548ca182f": {
          "model_module": "@jupyter-widgets/base",
          "model_module_version": "1.2.0",
          "model_name": "LayoutModel",
          "state": {
            "_model_module": "@jupyter-widgets/base",
            "_model_module_version": "1.2.0",
            "_model_name": "LayoutModel",
            "_view_count": null,
            "_view_module": "@jupyter-widgets/base",
            "_view_module_version": "1.2.0",
            "_view_name": "LayoutView",
            "align_content": null,
            "align_items": null,
            "align_self": null,
            "border": null,
            "bottom": null,
            "display": null,
            "flex": null,
            "flex_flow": null,
            "grid_area": null,
            "grid_auto_columns": null,
            "grid_auto_flow": null,
            "grid_auto_rows": null,
            "grid_column": null,
            "grid_gap": null,
            "grid_row": null,
            "grid_template_areas": null,
            "grid_template_columns": null,
            "grid_template_rows": null,
            "height": null,
            "justify_content": null,
            "justify_items": null,
            "left": null,
            "margin": null,
            "max_height": null,
            "max_width": null,
            "min_height": null,
            "min_width": null,
            "object_fit": null,
            "object_position": null,
            "order": null,
            "overflow": null,
            "overflow_x": null,
            "overflow_y": null,
            "padding": null,
            "right": null,
            "top": null,
            "visibility": null,
            "width": null
          }
        },
        "70c32ae996aa45cbaf836c4f8e5713e7": {
          "model_module": "@jupyter-widgets/controls",
          "model_module_version": "1.5.0",
          "model_name": "HBoxModel",
          "state": {
            "_dom_classes": [],
            "_model_module": "@jupyter-widgets/controls",
            "_model_module_version": "1.5.0",
            "_model_name": "HBoxModel",
            "_view_count": null,
            "_view_module": "@jupyter-widgets/controls",
            "_view_module_version": "1.5.0",
            "_view_name": "HBoxView",
            "box_style": "",
            "children": [
              "IPY_MODEL_abd4fa49b1cd42c3b6fc1e58e8739057",
              "IPY_MODEL_54975804d9df4dffaedef432bc4c5690",
              "IPY_MODEL_8013cc99f9f944819e6d0faaa385c71e"
            ],
            "layout": "IPY_MODEL_541f0f2bfa7b4952841ab685d01c1d23"
          }
        },
        "723b10bef8dd4822839ec5f34f552ff5": {
          "model_module": "@jupyter-widgets/controls",
          "model_module_version": "1.5.0",
          "model_name": "ProgressStyleModel",
          "state": {
            "_model_module": "@jupyter-widgets/controls",
            "_model_module_version": "1.5.0",
            "_model_name": "ProgressStyleModel",
            "_view_count": null,
            "_view_module": "@jupyter-widgets/base",
            "_view_module_version": "1.2.0",
            "_view_name": "StyleView",
            "bar_color": null,
            "description_width": ""
          }
        },
        "75ff2aba08d84b8cba05b8648b37b706": {
          "model_module": "@jupyter-widgets/controls",
          "model_module_version": "1.5.0",
          "model_name": "HBoxModel",
          "state": {
            "_dom_classes": [],
            "_model_module": "@jupyter-widgets/controls",
            "_model_module_version": "1.5.0",
            "_model_name": "HBoxModel",
            "_view_count": null,
            "_view_module": "@jupyter-widgets/controls",
            "_view_module_version": "1.5.0",
            "_view_name": "HBoxView",
            "box_style": "",
            "children": [
              "IPY_MODEL_640caf7dba79444cb02ef10b304a99ab",
              "IPY_MODEL_86de8e92167c470ea2840f4fde228207",
              "IPY_MODEL_50afd467d0e04907864434954433d0b4"
            ],
            "layout": "IPY_MODEL_9cf8d88dffaf4fdba446fac2af9c1a4c"
          }
        },
        "76752b440e1e45669c1a8e1e81f322b9": {
          "model_module": "@jupyter-widgets/base",
          "model_module_version": "1.2.0",
          "model_name": "LayoutModel",
          "state": {
            "_model_module": "@jupyter-widgets/base",
            "_model_module_version": "1.2.0",
            "_model_name": "LayoutModel",
            "_view_count": null,
            "_view_module": "@jupyter-widgets/base",
            "_view_module_version": "1.2.0",
            "_view_name": "LayoutView",
            "align_content": null,
            "align_items": null,
            "align_self": null,
            "border": null,
            "bottom": null,
            "display": null,
            "flex": null,
            "flex_flow": null,
            "grid_area": null,
            "grid_auto_columns": null,
            "grid_auto_flow": null,
            "grid_auto_rows": null,
            "grid_column": null,
            "grid_gap": null,
            "grid_row": null,
            "grid_template_areas": null,
            "grid_template_columns": null,
            "grid_template_rows": null,
            "height": null,
            "justify_content": null,
            "justify_items": null,
            "left": null,
            "margin": null,
            "max_height": null,
            "max_width": null,
            "min_height": null,
            "min_width": null,
            "object_fit": null,
            "object_position": null,
            "order": null,
            "overflow": null,
            "overflow_x": null,
            "overflow_y": null,
            "padding": null,
            "right": null,
            "top": null,
            "visibility": null,
            "width": null
          }
        },
        "76f49afecd3b4b9b971d4bf2072d8a1b": {
          "model_module": "@jupyter-widgets/base",
          "model_module_version": "1.2.0",
          "model_name": "LayoutModel",
          "state": {
            "_model_module": "@jupyter-widgets/base",
            "_model_module_version": "1.2.0",
            "_model_name": "LayoutModel",
            "_view_count": null,
            "_view_module": "@jupyter-widgets/base",
            "_view_module_version": "1.2.0",
            "_view_name": "LayoutView",
            "align_content": null,
            "align_items": null,
            "align_self": null,
            "border": null,
            "bottom": null,
            "display": null,
            "flex": null,
            "flex_flow": null,
            "grid_area": null,
            "grid_auto_columns": null,
            "grid_auto_flow": null,
            "grid_auto_rows": null,
            "grid_column": null,
            "grid_gap": null,
            "grid_row": null,
            "grid_template_areas": null,
            "grid_template_columns": null,
            "grid_template_rows": null,
            "height": null,
            "justify_content": null,
            "justify_items": null,
            "left": null,
            "margin": null,
            "max_height": null,
            "max_width": null,
            "min_height": null,
            "min_width": null,
            "object_fit": null,
            "object_position": null,
            "order": null,
            "overflow": null,
            "overflow_x": null,
            "overflow_y": null,
            "padding": null,
            "right": null,
            "top": null,
            "visibility": null,
            "width": null
          }
        },
        "7bcaf76dea7f49cc9dcfaa07f66fc407": {
          "model_module": "@jupyter-widgets/base",
          "model_module_version": "1.2.0",
          "model_name": "LayoutModel",
          "state": {
            "_model_module": "@jupyter-widgets/base",
            "_model_module_version": "1.2.0",
            "_model_name": "LayoutModel",
            "_view_count": null,
            "_view_module": "@jupyter-widgets/base",
            "_view_module_version": "1.2.0",
            "_view_name": "LayoutView",
            "align_content": null,
            "align_items": null,
            "align_self": null,
            "border": null,
            "bottom": null,
            "display": null,
            "flex": null,
            "flex_flow": null,
            "grid_area": null,
            "grid_auto_columns": null,
            "grid_auto_flow": null,
            "grid_auto_rows": null,
            "grid_column": null,
            "grid_gap": null,
            "grid_row": null,
            "grid_template_areas": null,
            "grid_template_columns": null,
            "grid_template_rows": null,
            "height": null,
            "justify_content": null,
            "justify_items": null,
            "left": null,
            "margin": null,
            "max_height": null,
            "max_width": null,
            "min_height": null,
            "min_width": null,
            "object_fit": null,
            "object_position": null,
            "order": null,
            "overflow": null,
            "overflow_x": null,
            "overflow_y": null,
            "padding": null,
            "right": null,
            "top": null,
            "visibility": null,
            "width": null
          }
        },
        "8013cc99f9f944819e6d0faaa385c71e": {
          "model_module": "@jupyter-widgets/controls",
          "model_module_version": "1.5.0",
          "model_name": "HTMLModel",
          "state": {
            "_dom_classes": [],
            "_model_module": "@jupyter-widgets/controls",
            "_model_module_version": "1.5.0",
            "_model_name": "HTMLModel",
            "_view_count": null,
            "_view_module": "@jupyter-widgets/controls",
            "_view_module_version": "1.5.0",
            "_view_name": "HTMLView",
            "description": "",
            "description_tooltip": null,
            "layout": "IPY_MODEL_7bcaf76dea7f49cc9dcfaa07f66fc407",
            "placeholder": "​",
            "style": "IPY_MODEL_9014f79b9a2b4b07b7e90e05f87a5be4",
            "value": " 440M/440M [00:02&lt;00:00, 222MB/s]"
          }
        },
        "86de8e92167c470ea2840f4fde228207": {
          "model_module": "@jupyter-widgets/controls",
          "model_module_version": "1.5.0",
          "model_name": "FloatProgressModel",
          "state": {
            "_dom_classes": [],
            "_model_module": "@jupyter-widgets/controls",
            "_model_module_version": "1.5.0",
            "_model_name": "FloatProgressModel",
            "_view_count": null,
            "_view_module": "@jupyter-widgets/controls",
            "_view_module_version": "1.5.0",
            "_view_name": "ProgressView",
            "bar_style": "success",
            "description": "",
            "description_tooltip": null,
            "layout": "IPY_MODEL_4a00e5188c024876bb5064e3e889aef8",
            "max": 48,
            "min": 0,
            "orientation": "horizontal",
            "style": "IPY_MODEL_27ff7120a65f480295fd1d6cc1a884ac",
            "value": 48
          }
        },
        "89333c91133f4d0698294336036cd992": {
          "model_module": "@jupyter-widgets/controls",
          "model_module_version": "1.5.0",
          "model_name": "HTMLModel",
          "state": {
            "_dom_classes": [],
            "_model_module": "@jupyter-widgets/controls",
            "_model_module_version": "1.5.0",
            "_model_name": "HTMLModel",
            "_view_count": null,
            "_view_module": "@jupyter-widgets/controls",
            "_view_module_version": "1.5.0",
            "_view_name": "HTMLView",
            "description": "",
            "description_tooltip": null,
            "layout": "IPY_MODEL_cd50bb35ce4440cb98528c65fa03a966",
            "placeholder": "​",
            "style": "IPY_MODEL_341f84fefcc04909830d2f6946d4c916",
            "value": " 466k/466k [00:00&lt;00:00, 629kB/s]"
          }
        },
        "9014f79b9a2b4b07b7e90e05f87a5be4": {
          "model_module": "@jupyter-widgets/controls",
          "model_module_version": "1.5.0",
          "model_name": "DescriptionStyleModel",
          "state": {
            "_model_module": "@jupyter-widgets/controls",
            "_model_module_version": "1.5.0",
            "_model_name": "DescriptionStyleModel",
            "_view_count": null,
            "_view_module": "@jupyter-widgets/base",
            "_view_module_version": "1.2.0",
            "_view_name": "StyleView",
            "description_width": ""
          }
        },
        "92ebb9051a0d45538a43e80c5871b188": {
          "model_module": "@jupyter-widgets/controls",
          "model_module_version": "1.5.0",
          "model_name": "DescriptionStyleModel",
          "state": {
            "_model_module": "@jupyter-widgets/controls",
            "_model_module_version": "1.5.0",
            "_model_name": "DescriptionStyleModel",
            "_view_count": null,
            "_view_module": "@jupyter-widgets/base",
            "_view_module_version": "1.2.0",
            "_view_name": "StyleView",
            "description_width": ""
          }
        },
        "9cf8d88dffaf4fdba446fac2af9c1a4c": {
          "model_module": "@jupyter-widgets/base",
          "model_module_version": "1.2.0",
          "model_name": "LayoutModel",
          "state": {
            "_model_module": "@jupyter-widgets/base",
            "_model_module_version": "1.2.0",
            "_model_name": "LayoutModel",
            "_view_count": null,
            "_view_module": "@jupyter-widgets/base",
            "_view_module_version": "1.2.0",
            "_view_name": "LayoutView",
            "align_content": null,
            "align_items": null,
            "align_self": null,
            "border": null,
            "bottom": null,
            "display": null,
            "flex": null,
            "flex_flow": null,
            "grid_area": null,
            "grid_auto_columns": null,
            "grid_auto_flow": null,
            "grid_auto_rows": null,
            "grid_column": null,
            "grid_gap": null,
            "grid_row": null,
            "grid_template_areas": null,
            "grid_template_columns": null,
            "grid_template_rows": null,
            "height": null,
            "justify_content": null,
            "justify_items": null,
            "left": null,
            "margin": null,
            "max_height": null,
            "max_width": null,
            "min_height": null,
            "min_width": null,
            "object_fit": null,
            "object_position": null,
            "order": null,
            "overflow": null,
            "overflow_x": null,
            "overflow_y": null,
            "padding": null,
            "right": null,
            "top": null,
            "visibility": null,
            "width": null
          }
        },
        "abd4fa49b1cd42c3b6fc1e58e8739057": {
          "model_module": "@jupyter-widgets/controls",
          "model_module_version": "1.5.0",
          "model_name": "HTMLModel",
          "state": {
            "_dom_classes": [],
            "_model_module": "@jupyter-widgets/controls",
            "_model_module_version": "1.5.0",
            "_model_name": "HTMLModel",
            "_view_count": null,
            "_view_module": "@jupyter-widgets/controls",
            "_view_module_version": "1.5.0",
            "_view_name": "HTMLView",
            "description": "",
            "description_tooltip": null,
            "layout": "IPY_MODEL_692db5c204074753849406d548ca182f",
            "placeholder": "​",
            "style": "IPY_MODEL_92ebb9051a0d45538a43e80c5871b188",
            "value": "model.safetensors: 100%"
          }
        },
        "b97864e0a45b41d58ea51f621b424219": {
          "model_module": "@jupyter-widgets/controls",
          "model_module_version": "1.5.0",
          "model_name": "DescriptionStyleModel",
          "state": {
            "_model_module": "@jupyter-widgets/controls",
            "_model_module_version": "1.5.0",
            "_model_name": "DescriptionStyleModel",
            "_view_count": null,
            "_view_module": "@jupyter-widgets/base",
            "_view_module_version": "1.2.0",
            "_view_name": "StyleView",
            "description_width": ""
          }
        },
        "cd50bb35ce4440cb98528c65fa03a966": {
          "model_module": "@jupyter-widgets/base",
          "model_module_version": "1.2.0",
          "model_name": "LayoutModel",
          "state": {
            "_model_module": "@jupyter-widgets/base",
            "_model_module_version": "1.2.0",
            "_model_name": "LayoutModel",
            "_view_count": null,
            "_view_module": "@jupyter-widgets/base",
            "_view_module_version": "1.2.0",
            "_view_name": "LayoutView",
            "align_content": null,
            "align_items": null,
            "align_self": null,
            "border": null,
            "bottom": null,
            "display": null,
            "flex": null,
            "flex_flow": null,
            "grid_area": null,
            "grid_auto_columns": null,
            "grid_auto_flow": null,
            "grid_auto_rows": null,
            "grid_column": null,
            "grid_gap": null,
            "grid_row": null,
            "grid_template_areas": null,
            "grid_template_columns": null,
            "grid_template_rows": null,
            "height": null,
            "justify_content": null,
            "justify_items": null,
            "left": null,
            "margin": null,
            "max_height": null,
            "max_width": null,
            "min_height": null,
            "min_width": null,
            "object_fit": null,
            "object_position": null,
            "order": null,
            "overflow": null,
            "overflow_x": null,
            "overflow_y": null,
            "padding": null,
            "right": null,
            "top": null,
            "visibility": null,
            "width": null
          }
        },
        "d9da7d487d8d4ca9a97c5b2a9ec93535": {
          "model_module": "@jupyter-widgets/controls",
          "model_module_version": "1.5.0",
          "model_name": "HBoxModel",
          "state": {
            "_dom_classes": [],
            "_model_module": "@jupyter-widgets/controls",
            "_model_module_version": "1.5.0",
            "_model_name": "HBoxModel",
            "_view_count": null,
            "_view_module": "@jupyter-widgets/controls",
            "_view_module_version": "1.5.0",
            "_view_name": "HBoxView",
            "box_style": "",
            "children": [
              "IPY_MODEL_454665eedf874a199fb871197cc2acc3",
              "IPY_MODEL_3313ca8b2d1e469b8e9c9abe90951f33",
              "IPY_MODEL_89333c91133f4d0698294336036cd992"
            ],
            "layout": "IPY_MODEL_df999301ed984b548ae11f355df1c277"
          }
        },
        "da955d726462477585d12caff0494b22": {
          "model_module": "@jupyter-widgets/controls",
          "model_module_version": "1.5.0",
          "model_name": "DescriptionStyleModel",
          "state": {
            "_model_module": "@jupyter-widgets/controls",
            "_model_module_version": "1.5.0",
            "_model_name": "DescriptionStyleModel",
            "_view_count": null,
            "_view_module": "@jupyter-widgets/base",
            "_view_module_version": "1.2.0",
            "_view_name": "StyleView",
            "description_width": ""
          }
        },
        "db517fe6b86943c699ba04a707318884": {
          "model_module": "@jupyter-widgets/base",
          "model_module_version": "1.2.0",
          "model_name": "LayoutModel",
          "state": {
            "_model_module": "@jupyter-widgets/base",
            "_model_module_version": "1.2.0",
            "_model_name": "LayoutModel",
            "_view_count": null,
            "_view_module": "@jupyter-widgets/base",
            "_view_module_version": "1.2.0",
            "_view_name": "LayoutView",
            "align_content": null,
            "align_items": null,
            "align_self": null,
            "border": null,
            "bottom": null,
            "display": null,
            "flex": null,
            "flex_flow": null,
            "grid_area": null,
            "grid_auto_columns": null,
            "grid_auto_flow": null,
            "grid_auto_rows": null,
            "grid_column": null,
            "grid_gap": null,
            "grid_row": null,
            "grid_template_areas": null,
            "grid_template_columns": null,
            "grid_template_rows": null,
            "height": null,
            "justify_content": null,
            "justify_items": null,
            "left": null,
            "margin": null,
            "max_height": null,
            "max_width": null,
            "min_height": null,
            "min_width": null,
            "object_fit": null,
            "object_position": null,
            "order": null,
            "overflow": null,
            "overflow_x": null,
            "overflow_y": null,
            "padding": null,
            "right": null,
            "top": null,
            "visibility": null,
            "width": null
          }
        },
        "dc52349e935549a2a3b1fb9cb5c4f9bd": {
          "model_module": "@jupyter-widgets/base",
          "model_module_version": "1.2.0",
          "model_name": "LayoutModel",
          "state": {
            "_model_module": "@jupyter-widgets/base",
            "_model_module_version": "1.2.0",
            "_model_name": "LayoutModel",
            "_view_count": null,
            "_view_module": "@jupyter-widgets/base",
            "_view_module_version": "1.2.0",
            "_view_name": "LayoutView",
            "align_content": null,
            "align_items": null,
            "align_self": null,
            "border": null,
            "bottom": null,
            "display": null,
            "flex": null,
            "flex_flow": null,
            "grid_area": null,
            "grid_auto_columns": null,
            "grid_auto_flow": null,
            "grid_auto_rows": null,
            "grid_column": null,
            "grid_gap": null,
            "grid_row": null,
            "grid_template_areas": null,
            "grid_template_columns": null,
            "grid_template_rows": null,
            "height": null,
            "justify_content": null,
            "justify_items": null,
            "left": null,
            "margin": null,
            "max_height": null,
            "max_width": null,
            "min_height": null,
            "min_width": null,
            "object_fit": null,
            "object_position": null,
            "order": null,
            "overflow": null,
            "overflow_x": null,
            "overflow_y": null,
            "padding": null,
            "right": null,
            "top": null,
            "visibility": null,
            "width": null
          }
        },
        "df999301ed984b548ae11f355df1c277": {
          "model_module": "@jupyter-widgets/base",
          "model_module_version": "1.2.0",
          "model_name": "LayoutModel",
          "state": {
            "_model_module": "@jupyter-widgets/base",
            "_model_module_version": "1.2.0",
            "_model_name": "LayoutModel",
            "_view_count": null,
            "_view_module": "@jupyter-widgets/base",
            "_view_module_version": "1.2.0",
            "_view_name": "LayoutView",
            "align_content": null,
            "align_items": null,
            "align_self": null,
            "border": null,
            "bottom": null,
            "display": null,
            "flex": null,
            "flex_flow": null,
            "grid_area": null,
            "grid_auto_columns": null,
            "grid_auto_flow": null,
            "grid_auto_rows": null,
            "grid_column": null,
            "grid_gap": null,
            "grid_row": null,
            "grid_template_areas": null,
            "grid_template_columns": null,
            "grid_template_rows": null,
            "height": null,
            "justify_content": null,
            "justify_items": null,
            "left": null,
            "margin": null,
            "max_height": null,
            "max_width": null,
            "min_height": null,
            "min_width": null,
            "object_fit": null,
            "object_position": null,
            "order": null,
            "overflow": null,
            "overflow_x": null,
            "overflow_y": null,
            "padding": null,
            "right": null,
            "top": null,
            "visibility": null,
            "width": null
          }
        },
        "e7b9dca6d8c847698ca85bcb5c580d7b": {
          "model_module": "@jupyter-widgets/controls",
          "model_module_version": "1.5.0",
          "model_name": "ProgressStyleModel",
          "state": {
            "_model_module": "@jupyter-widgets/controls",
            "_model_module_version": "1.5.0",
            "_model_name": "ProgressStyleModel",
            "_view_count": null,
            "_view_module": "@jupyter-widgets/base",
            "_view_module_version": "1.2.0",
            "_view_name": "StyleView",
            "bar_color": null,
            "description_width": ""
          }
        },
        "eb83cfb651f248e5946e52c17991caf2": {
          "model_module": "@jupyter-widgets/controls",
          "model_module_version": "1.5.0",
          "model_name": "ProgressStyleModel",
          "state": {
            "_model_module": "@jupyter-widgets/controls",
            "_model_module_version": "1.5.0",
            "_model_name": "ProgressStyleModel",
            "_view_count": null,
            "_view_module": "@jupyter-widgets/base",
            "_view_module_version": "1.2.0",
            "_view_name": "StyleView",
            "bar_color": null,
            "description_width": ""
          }
        },
        "ed5cecd4bdee45b8b7433022ebe4550d": {
          "model_module": "@jupyter-widgets/controls",
          "model_module_version": "1.5.0",
          "model_name": "HTMLModel",
          "state": {
            "_dom_classes": [],
            "_model_module": "@jupyter-widgets/controls",
            "_model_module_version": "1.5.0",
            "_model_name": "HTMLModel",
            "_view_count": null,
            "_view_module": "@jupyter-widgets/controls",
            "_view_module_version": "1.5.0",
            "_view_name": "HTMLView",
            "description": "",
            "description_tooltip": null,
            "layout": "IPY_MODEL_04ff9ada48a0498bbdaa865f0610104b",
            "placeholder": "​",
            "style": "IPY_MODEL_da955d726462477585d12caff0494b22",
            "value": "config.json: 100%"
          }
        },
        "f58be77c43c744baa557a1adeddda71f": {
          "model_module": "@jupyter-widgets/base",
          "model_module_version": "1.2.0",
          "model_name": "LayoutModel",
          "state": {
            "_model_module": "@jupyter-widgets/base",
            "_model_module_version": "1.2.0",
            "_model_name": "LayoutModel",
            "_view_count": null,
            "_view_module": "@jupyter-widgets/base",
            "_view_module_version": "1.2.0",
            "_view_name": "LayoutView",
            "align_content": null,
            "align_items": null,
            "align_self": null,
            "border": null,
            "bottom": null,
            "display": null,
            "flex": null,
            "flex_flow": null,
            "grid_area": null,
            "grid_auto_columns": null,
            "grid_auto_flow": null,
            "grid_auto_rows": null,
            "grid_column": null,
            "grid_gap": null,
            "grid_row": null,
            "grid_template_areas": null,
            "grid_template_columns": null,
            "grid_template_rows": null,
            "height": null,
            "justify_content": null,
            "justify_items": null,
            "left": null,
            "margin": null,
            "max_height": null,
            "max_width": null,
            "min_height": null,
            "min_width": null,
            "object_fit": null,
            "object_position": null,
            "order": null,
            "overflow": null,
            "overflow_x": null,
            "overflow_y": null,
            "padding": null,
            "right": null,
            "top": null,
            "visibility": null,
            "width": null
          }
        }
      }
    }
  },
  "nbformat": 4,
  "nbformat_minor": 0
}
